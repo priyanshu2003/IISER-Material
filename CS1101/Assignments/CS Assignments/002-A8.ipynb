{
 "cells": [
  {
   "cell_type": "markdown",
   "id": "a16f58c0",
   "metadata": {},
   "source": [
    "# CS1101 Assignment - 08"
   ]
  },
  {
   "cell_type": "markdown",
   "id": "5859dcb7",
   "metadata": {},
   "source": [
    "## Question 1:"
   ]
  },
  {
   "cell_type": "markdown",
   "id": "c093b31d",
   "metadata": {},
   "source": [
    "An RNA sequence is formed by the nucleotides ’A’, ’C’, ’G’, and ’U’. A triplet of nucleotides in such a sequence is called a codon and a protein coding gene is characterized by a start codon and a stop codon. Write a program that takes an RNA string as input and prints the codons present in the sequence. For example, for the sequence given below\n",
    "\n",
    "Input: AUGGGAACUUCACUACGUAAAUAG\n",
    "\n",
    "Output: Codons are: AUG, GGA, ACU, UCA, CUA, CGU, AAA, UAG\n",
    "\n",
    "Determine the frequency $\\frac{No.\\ of\\ times\\ a\\ codon\\ appears}{Total\\ no.\\ of\\ codons\\ in\\ the\\ sequence}$ of each of the 64 codons in the input sequence."
   ]
  },
  {
   "cell_type": "code",
   "execution_count": 19,
   "id": "bd1ae719",
   "metadata": {},
   "outputs": [
    {
     "name": "stdout",
     "output_type": "stream",
     "text": [
      "Enter an RNA sequence: AUGGGAACUUCACUACGUAAAUAG\n",
      "Codons are:  ['AUG', 'GGA', 'ACU', 'UCA', 'CUA', 'CGU', 'AAA', 'UAG']\n",
      "Frequency of each Codon:  {'AUG': '1/8', 'GGA': '1/8', 'ACU': '1/8', 'UCA': '1/8', 'CUA': '1/8', 'CGU': '1/8', 'AAA': '1/8', 'UAG': '1/8'}\n"
     ]
    }
   ],
   "source": [
    "rna = input('Enter an RNA sequence: ')\n",
    "rna_list = []\n",
    "while (len(rna) % 3 != 0):\n",
    "    rna = rna[:len(rna) - 1]\n",
    "for i in range(0, len(rna), 3):\n",
    "    rna_list.append(rna[i:i + 3])\n",
    "print('Codons are: ', rna_list)\n",
    "rna_freq = [rna_list.count(codon) for codon in rna_list]\n",
    "rna_freq = [str(rna_freq[i]) + '/' + str(len(rna_list)) for i in range (0, len(rna_freq))]\n",
    "x = dict(zip(rna_list, rna_freq))\n",
    "print('Frequency of each Codon: ',x)"
   ]
  },
  {
   "cell_type": "markdown",
   "id": "4a846151",
   "metadata": {},
   "source": [
    "## Question 2:"
   ]
  },
  {
   "cell_type": "markdown",
   "id": "fdf446ac",
   "metadata": {},
   "source": [
    "Given a genetic code (see image below), i.e., a mapping between codons and amino acids, a coding sequence like the RNA sequence given above can be translated into an amino acid sequence. Using a dictionary like the one specified in slide 76 of the updated lecture slides, convert a protein coding mRNA sequence input by the user into an amino acid sequence.\n",
    "\n",
    "<img src='Stop Codon.png' width=\"700\" height=\"700\">\n",
    "\n",
    "Note that the last codon in an mRNA sequence is either UAA or UAG or UGA which are stop codons that are not translated into an amino acid. As in the above example, when such a codon is encountered, translation should be terminated. \n",
    "\n",
    "You can use the following 1-letter code for amino acids to specify the values associated with the keys (which are codons) in your dictionary.\n",
    "\n",
    "<img src='Code.png' width=\"200\" height=\"300\">\n",
    "\n",
    "Input mRNA sequence: AUGGGAACUUCACUACGUAAAUAG\n",
    "\n",
    "Output: MGTSLRK \n",
    "\n",
    "(where M,G,…..,K are amino acids associated with codons AUG, GGA,…,AAA)"
   ]
  },
  {
   "cell_type": "code",
   "execution_count": 47,
   "id": "537083ea",
   "metadata": {},
   "outputs": [
    {
     "name": "stdout",
     "output_type": "stream",
     "text": [
      "Enter mRNA sequence: AUGGGAACUUCACUACGUAAAUAGAGCAGC\n",
      "Amino Acid Sequence:  MGTSLRK\n"
     ]
    }
   ],
   "source": [
    "def amino_acids (mRNA):\n",
    "    protein = ''\n",
    "    RNA_codon_table = {\n",
    "    # U\n",
    "    'UUU': 'Phe', 'UCU': 'Ser', 'UAU': 'Tyr', 'UGU': 'Cys', # UxU\n",
    "    'UUC': 'Phe', 'UCC': 'Ser', 'UAC': 'Tyr', 'UGC': 'Cys', # UxC\n",
    "    'UUA': 'Leu', 'UCA': 'Ser', 'UAA': '---', 'UGA': '---', # UxA\n",
    "    'UUG': 'Leu', 'UCG': 'Ser', 'UAG': '---', 'UGG': 'Trp', # UxG\n",
    "\n",
    "    # C\n",
    "    'CUU': 'Leu', 'CCU': 'Pro', 'CAU': 'His', 'CGU': 'Arg', # CxU\n",
    "    'CUC': 'Leu', 'CCC': 'Pro', 'CAC': 'His', 'CGC': 'Arg', # CxC\n",
    "    'CUA': 'Leu', 'CCA': 'Pro', 'CAA': 'Gln', 'CGA': 'Arg', # CxA\n",
    "    'CUG': 'Leu', 'CCG': 'Pro', 'CAG': 'Gln', 'CGG': 'Arg', # CxG\n",
    "\n",
    "    # A\n",
    "    'AUU': 'Ile', 'ACU': 'Thr', 'AAU': 'Asn', 'AGU': 'Ser', # AxU\n",
    "    'AUC': 'Ile', 'ACC': 'Thr', 'AAC': 'Asn', 'AGC': 'Ser', # AxC\n",
    "    'AUA': 'Ile', 'ACA': 'Thr', 'AAA': 'Lys', 'AGA': 'Arg', # AxA\n",
    "    'AUG': 'Met', 'ACG': 'Thr', 'AAG': 'Lys', 'AGG': 'Arg', # AxG\n",
    "\n",
    "    # G\n",
    "    'GUU': 'Val', 'GCU': 'Ala', 'GAU': 'Asp', 'GGU': 'Gly', # GxU\n",
    "    'GUC': 'Val', 'GCC': 'Ala', 'GAC': 'Asp', 'GGC': 'Gly', # GxC\n",
    "    'GUA': 'Val', 'GCA': 'Ala', 'GAA': 'Glu', 'GGA': 'Gly', # GxA\n",
    "    'GUG': 'Val', 'GCG': 'Ala', 'GAG': 'Glu', 'GGG': 'Gly'  # GxG\n",
    "    }\n",
    "\n",
    "\n",
    "    singleletter = {'Cys': 'C', 'Asp': 'D', 'Ser': 'S', 'Gln': 'Q', 'Lys': 'K',\n",
    "    'Trp': 'W', 'Asn': 'N', 'Pro': 'P', 'Thr': 'T', 'Phe': 'F', 'Ala': 'A',\n",
    "    'Gly': 'G', 'Ile': 'I', 'Leu': 'L', 'His': 'H', 'Arg': 'R', 'Met': 'M',\n",
    "    'Val': 'V', 'Glu': 'E', 'Tyr': 'Y', '---': '*'}\n",
    "\n",
    "    stop_codons = {\"UGA\",\"UAG\",\"UAA\"}\n",
    "    \n",
    "    while mRNA:\n",
    "        codon = mRNA[:3]  \n",
    "        mRNA = mRNA[3:]  \n",
    "        if codon in stop_codons:\n",
    "            continue\n",
    "        amino_acid = singleletter[RNA_codon_table[codon]]\n",
    "        protein = protein + amino_acid\n",
    "    return protein\n",
    "mrna = input('Enter mRNA sequence: ')\n",
    "print('Amino Acid Sequence: ',amino_acids(mrna))"
   ]
  },
  {
   "cell_type": "markdown",
   "id": "c1e80940",
   "metadata": {},
   "source": [
    "## Question 3:\n",
    "\n",
    "Write a program in python to input the radius of a sphere, and print the volume using \n",
    "formatted output corrected to 1, 2, 3 and 4 decimal places."
   ]
  },
  {
   "cell_type": "code",
   "execution_count": 38,
   "id": "80f67d6d",
   "metadata": {},
   "outputs": [
    {
     "name": "stdout",
     "output_type": "stream",
     "text": [
      "Enter radius: 25\n",
      "The volume is: 65476.2 , 65476.19 , 65476.190 , 65476.1905\n"
     ]
    }
   ],
   "source": [
    "r = float(input('Enter radius: '))  \n",
    "   \n",
    "volume = (4 * 22 * (r ** 3))/(3 * 7) \n",
    "\n",
    "print(\"The volume is:\", format(volume,\".1f\"), \",\", format(volume, \".2f\"), \",\", format(volume, \".3f\"), \",\", format(volume, \".4f\"))   \n"
   ]
  },
  {
   "cell_type": "markdown",
   "id": "e9396e88",
   "metadata": {},
   "source": [
    "## Question 4:\n",
    "\n",
    "Use try, except to check if an inputted number is non-negative or not and for the former \n",
    "print the sqrt in a format with 3 places after decimal; for the negative case print an \n",
    "appropriate message in the except block."
   ]
  },
  {
   "cell_type": "code",
   "execution_count": 1,
   "id": "514230b5",
   "metadata": {},
   "outputs": [
    {
     "name": "stdout",
     "output_type": "stream",
     "text": [
      "Enter a number: -87\n",
      "Negative Number encountered\n"
     ]
    }
   ],
   "source": [
    "import math\n",
    "x = int(input(\"Enter a number: \"))\n",
    "try:\n",
    "    print(format(math.sqrt(x), \".3f\"))\n",
    "except:\n",
    "    print(\"Negative Number encountered\")"
   ]
  },
  {
   "cell_type": "code",
   "execution_count": null,
   "id": "b87c177a",
   "metadata": {},
   "outputs": [],
   "source": []
  }
 ],
 "metadata": {
  "kernelspec": {
   "display_name": "Python 3 (ipykernel)",
   "language": "python",
   "name": "python3"
  },
  "language_info": {
   "codemirror_mode": {
    "name": "ipython",
    "version": 3
   },
   "file_extension": ".py",
   "mimetype": "text/x-python",
   "name": "python",
   "nbconvert_exporter": "python",
   "pygments_lexer": "ipython3",
   "version": "3.10.2"
  },
  "notify_time": "10"
 },
 "nbformat": 4,
 "nbformat_minor": 5
}
