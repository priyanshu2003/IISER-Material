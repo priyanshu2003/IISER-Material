{
 "cells": [
  {
   "cell_type": "markdown",
   "id": "f6e26f43",
   "metadata": {},
   "source": [
    "# CS1101 Assignment - 4"
   ]
  },
  {
   "cell_type": "markdown",
   "id": "82904251",
   "metadata": {},
   "source": [
    "## Question 1: "
   ]
  },
  {
   "cell_type": "markdown",
   "id": "49821c75",
   "metadata": {},
   "source": [
    "Write a program to flatten a given nested list structure.\n",
    "\n",
    "Input: [0, 10, [20, 30], 40, 50, [60, 70, 80], [90, 100, 110, 120]]\n",
    "\n",
    "Output: [0, 10, 20, 30, 40, 50, 60, 70, 80, 90, 100, 110, 120]\n"
   ]
  },
  {
   "cell_type": "code",
   "execution_count": 3,
   "id": "b066d755",
   "metadata": {},
   "outputs": [
    {
     "name": "stdout",
     "output_type": "stream",
     "text": [
      "Original list is: [0, 10, [20, 30], 40, 50, [60, 70, 80], [90, 100, 110, 120, [10, 20, [10, 20, [20, 30]]]], [[1, 2, 3, 4, 5], [6, 7, 8, 9, 10]]]\n",
      "flattened list is: [0, 10, 20, 30, 40, 50, 60, 70, 80, 90, 100, 110, 120, 10, 20, 10, 20, 20, 30, 1, 2, 3, 4, 5, 6, 7, 8, 9, 10]\n"
     ]
    }
   ],
   "source": [
    "input_list = [0, 10, [20, 30], 40, 50, [60, 70, 80], [90, 100, 110, 120, [10, 20,[10,20,[20,30]]]], [[1,2,3,4,5],[6,7,8,9,10]]]\n",
    "final = []\n",
    "print(\"Original list is:\",input_list)\n",
    "def flatten(list1):\n",
    "    for i in list1:\n",
    "        if(type(i) == type(final)):\n",
    "            flatten(i)\n",
    "        else:\n",
    "            final.append(i)\n",
    "flatten(input_list)\n",
    "print(\"flattened list is:\",final)"
   ]
  },
  {
   "cell_type": "markdown",
   "id": "0b0a753e",
   "metadata": {},
   "source": [
    "## Question 2:"
   ]
  },
  {
   "cell_type": "markdown",
   "id": "34781037",
   "metadata": {},
   "source": [
    " Take two integers R and C (as user input) and initialise a Matrix of dimension R × C taking \n",
    "the values from the user using nested lists. Each of the R rows will be stored in lists and all \n",
    "the rows will be individual elements in a list. The individual input elements will be in the \n",
    "range (-999, 999). Print the matrix. "
   ]
  },
  {
   "cell_type": "code",
   "execution_count": 31,
   "id": "cb75ef62",
   "metadata": {},
   "outputs": [
    {
     "name": "stdout",
     "output_type": "stream",
     "text": [
      "Enter no. of rows: 3\n",
      "Enter no. of columns: 3\n",
      "Enter element in row 1 and column 1: 1\n",
      "Enter element in row 2 and column 1: 2\n",
      "Enter element in row 3 and column 1: 3\n",
      "Enter element in row 1 and column 2: 4\n",
      "Enter element in row 2 and column 2: 5\n",
      "Enter element in row 3 and column 2: 6\n",
      "Enter element in row 1 and column 3: 7\n",
      "Enter element in row 2 and column 3: 8\n",
      "Enter element in row 3 and column 3: 9\n",
      "1  2  3  \n",
      "4  5  6  \n",
      "7  8  9  \n"
     ]
    }
   ],
   "source": [
    "m = int(input(\"Enter no. of rows: \"))\n",
    "n = int(input(\"Enter no. of columns: \"))\n",
    "arra = []\n",
    "for i in range (0,m):\n",
    "    sublist = []\n",
    "    for j in range (0,n):\n",
    "        t = input(\"Enter element in row %s and column %s: \" %(j+1, i+1))\n",
    "        sublist.append(t)\n",
    "    arra.append(sublist)\n",
    "    \n",
    "for i in range(0,m):\n",
    "    for j in range(0, len(arra[i])):\n",
    "        print('%s ' %(arra[i][j]), end=' ')\n",
    "    print()"
   ]
  },
  {
   "cell_type": "markdown",
   "id": "3b06540f",
   "metadata": {},
   "source": [
    "## Question 3:"
   ]
  },
  {
   "cell_type": "markdown",
   "id": "706dbc42",
   "metadata": {},
   "source": [
    "Given a list of values, write a program that removes duplicates from the list.\n",
    "\n",
    "Input: [3, 7, 13, 9, 7, 5, 13, 17, 23, 17, 7, 29]\n",
    "\n",
    "Output: [3, 7, 13, 9, 5, 17, 23, 29]\n",
    "\n",
    "Input: [\"A\", \"E\", \"E\", \"O\", \"A\"]\n",
    "\n",
    "Output: [\"A\", \"E\", \"O\"]\n"
   ]
  },
  {
   "cell_type": "code",
   "execution_count": 12,
   "id": "8e768111",
   "metadata": {},
   "outputs": [
    {
     "name": "stdout",
     "output_type": "stream",
     "text": [
      "Enter desired length of list: 5\n",
      "Enter list item: \"A\"\n",
      "Enter list item: \"E\"\n",
      "Enter list item: \"E\"\n",
      "Enter list item: \"O\"\n",
      "Enter list item: \"A\"\n",
      "After removing duplicates:  ['\"A\"', '\"E\"', '\"O\"']\n"
     ]
    }
   ],
   "source": [
    "list1 = []\n",
    "n = int(input(\"Enter desired length of list: \"))\n",
    "for i in range (0,n):\n",
    "    x = input(\"Enter list item: \")\n",
    "    list1.append(x)\n",
    "final =[]\n",
    "def duplicate(list):\n",
    "    for i in list:\n",
    "        if i not in final:\n",
    "            final.append(i)\n",
    "    return final\n",
    "\n",
    "\n",
    "output = duplicate(list1)\n",
    "print(\"After removing duplicates: \", output)"
   ]
  },
  {
   "cell_type": "markdown",
   "id": "b140f465",
   "metadata": {},
   "source": [
    "## Question 4: "
   ]
  },
  {
   "cell_type": "markdown",
   "id": "d8c61f13",
   "metadata": {},
   "source": [
    "### 4.1"
   ]
  },
  {
   "cell_type": "markdown",
   "id": "8e3657dd",
   "metadata": {},
   "source": [
    "Take a set of non-zero integers from the user as input until the user enters 0. Store the inputs in a list. "
   ]
  },
  {
   "cell_type": "code",
   "execution_count": 39,
   "id": "6318d21a",
   "metadata": {},
   "outputs": [
    {
     "name": "stdout",
     "output_type": "stream",
     "text": [
      "Enter an integer: 12\n",
      "Enter an integer: 23\n",
      "Enter an integer: -54\n",
      "Enter an integer: 0\n",
      "You have entered zero, so the loop termintes\n",
      "['12', '23', '-54']\n"
     ]
    }
   ],
   "source": [
    "input_list  = []\n",
    "\n",
    "while(True):\n",
    "    x = input(\"Enter an integer: \")\n",
    "    if (any(map(str.isdigit, x)) and int(x)!=0):\n",
    "        input_list.append(x)\n",
    "    elif (int(x)==0):\n",
    "        print(\"You have entered zero, so the loop termintes\")\n",
    "        break\n",
    "    else:\n",
    "        print(\"Please enter an integer next time\")\n",
    "        break\n",
    "print(input_list)\n",
    "\n",
    "# the program results in an error if the user enters an alphabet/spl. character/float "
   ]
  },
  {
   "cell_type": "markdown",
   "id": "e33715e2",
   "metadata": {},
   "source": [
    "### 4.2"
   ]
  },
  {
   "cell_type": "markdown",
   "id": "ff18bb92",
   "metadata": {},
   "source": [
    " Compute the average of the input numbers. "
   ]
  },
  {
   "cell_type": "code",
   "execution_count": 40,
   "id": "6d018b4f",
   "metadata": {},
   "outputs": [
    {
     "name": "stdout",
     "output_type": "stream",
     "text": [
      "Average = -6.333333333333333\n"
     ]
    }
   ],
   "source": [
    "S = 0\n",
    "for i in range (0,len(input_list)):\n",
    "    S = S + int(input_list[i])\n",
    "avg = S/len(input_list)\n",
    "print('Average =', avg)"
   ]
  },
  {
   "cell_type": "markdown",
   "id": "b2031128",
   "metadata": {},
   "source": [
    "## Question 5: "
   ]
  },
  {
   "cell_type": "markdown",
   "id": "6caab660",
   "metadata": {},
   "source": [
    "### 5.1"
   ]
  },
  {
   "cell_type": "markdown",
   "id": "568049b1",
   "metadata": {},
   "source": [
    "Make a list called `numbers` containing all the numbers from 1 to 100. "
   ]
  },
  {
   "cell_type": "code",
   "execution_count": 43,
   "id": "0b72f406",
   "metadata": {},
   "outputs": [],
   "source": [
    "numbers = [i for i in range(1,101)]"
   ]
  },
  {
   "cell_type": "markdown",
   "id": "3548ce62",
   "metadata": {},
   "source": [
    "### 5.2\n",
    "\n",
    "Make another list `squares` that would contain each number from the list `numbers` followed by its square. i.e. `squares` should look like this: `squares=[1,1,2,4,3,9,4,16,….,100,10000]`\n"
   ]
  },
  {
   "cell_type": "code",
   "execution_count": 50,
   "id": "f4d11699",
   "metadata": {},
   "outputs": [
    {
     "name": "stdout",
     "output_type": "stream",
     "text": [
      "[1, 1, 2, 4, 3, 9, 4, 16, 5, 25, 6, 36, 7, 49, 8, 64, 9, 81, 10, 100, 11, 121, 12, 144, 13, 169, 14, 196, 15, 225, 16, 256, 17, 289, 18, 324, 19, 361, 20, 400, 21, 441, 22, 484, 23, 529, 24, 576, 25, 625, 26, 676, 27, 729, 28, 784, 29, 841, 30, 900, 31, 961, 32, 1024, 33, 1089, 34, 1156, 35, 1225, 36, 1296, 37, 1369, 38, 1444, 39, 1521, 40, 1600, 41, 1681, 42, 1764, 43, 1849, 44, 1936, 45, 2025, 46, 2116, 47, 2209, 48, 2304, 49, 2401, 50, 2500, 51, 2601, 52, 2704, 53, 2809, 54, 2916, 55, 3025, 56, 3136, 57, 3249, 58, 3364, 59, 3481, 60, 3600, 61, 3721, 62, 3844, 63, 3969, 64, 4096, 65, 4225, 66, 4356, 67, 4489, 68, 4624, 69, 4761, 70, 4900, 71, 5041, 72, 5184, 73, 5329, 74, 5476, 75, 5625, 76, 5776, 77, 5929, 78, 6084, 79, 6241, 80, 6400, 81, 6561, 82, 6724, 83, 6889, 84, 7056, 85, 7225, 86, 7396, 87, 7569, 88, 7744, 89, 7921, 90, 8100, 91, 8281, 92, 8464, 93, 8649, 94, 8836, 95, 9025, 96, 9216, 97, 9409, 98, 9604, 99, 9801, 100, 10000]\n"
     ]
    }
   ],
   "source": [
    "square = [i**2 for i in numbers]\n",
    "squares = []\n",
    "for i in range (0,100):\n",
    "    squares.append(numbers[i])\n",
    "    squares.append(square[i])\n",
    "print(squares)"
   ]
  },
  {
   "cell_type": "markdown",
   "id": "d4f76f8e",
   "metadata": {},
   "source": [
    "## Question 6:"
   ]
  },
  {
   "cell_type": "markdown",
   "id": "77b0e346",
   "metadata": {},
   "source": [
    "Take the dictionary called squares = {1: 1, 2: 4, 3: 9, 4: 16, 5: 25}. Using a loop modify squares by \n",
    "adding 4 more items to it 6:36, 7:49, 8:64, 9:81 and print out the modified dictionary. Remove the \n",
    "first key from the modified squares and print out the value associated with the key.\n"
   ]
  },
  {
   "cell_type": "code",
   "execution_count": 63,
   "id": "018d903c",
   "metadata": {},
   "outputs": [
    {
     "name": "stdout",
     "output_type": "stream",
     "text": [
      "Element Removed:  1\n",
      "Dictionary afer removing elements: {2: 4, 3: 9, 4: 16, 5: 25, 6: 36, 7: 49, 8: 64, 9: 81}\n"
     ]
    }
   ],
   "source": [
    "squares =  {1: 1, 2: 4, 3: 9, 4: 16, 5: 25}\n",
    "squares.update({6:36, 7:49, 8:64, 9:81})\n",
    "x = squares.get(1)\n",
    "del squares[1]\n",
    "print (\"Element Removed: \", x)\n",
    "print(\"Dictionary afer removing elements:\", squares)"
   ]
  },
  {
   "cell_type": "markdown",
   "id": "ae1532b7",
   "metadata": {},
   "source": [
    "## Question 7: "
   ]
  },
  {
   "cell_type": "markdown",
   "id": "26e83f02",
   "metadata": {},
   "source": [
    "Take a nested list of the form `arra = [[1, 2, 3, 4],[4, 5, 6, 7],[8, 9, 10, 11],[12, 13, 14, 15]]`. Write a \n",
    "code to remove the last element of each nested list item (example: 4 from the first list, 7 from the \n",
    "second, etc.) and print the modified nested list. "
   ]
  },
  {
   "cell_type": "code",
   "execution_count": 68,
   "id": "628f47a7",
   "metadata": {},
   "outputs": [
    {
     "name": "stdout",
     "output_type": "stream",
     "text": [
      "Enter length of outer list: 4\n",
      "Enter length of sublists: 4\n",
      "Enter element no. 1 of sublist no. 1: 1\n",
      "Enter element no. 2 of sublist no. 1: 2\n",
      "Enter element no. 3 of sublist no. 1: 3\n",
      "Enter element no. 4 of sublist no. 1: 4\n",
      "Enter element no. 1 of sublist no. 2: 2\n",
      "Enter element no. 2 of sublist no. 2: 3\n",
      "Enter element no. 3 of sublist no. 2: 4\n",
      "Enter element no. 4 of sublist no. 2: 5\n",
      "Enter element no. 1 of sublist no. 3: 3\n",
      "Enter element no. 2 of sublist no. 3: 4\n",
      "Enter element no. 3 of sublist no. 3: 5\n",
      "Enter element no. 4 of sublist no. 3: 6\n",
      "Enter element no. 1 of sublist no. 4: 4\n",
      "Enter element no. 2 of sublist no. 4: 5\n",
      "Enter element no. 3 of sublist no. 4: 6\n",
      "Enter element no. 4 of sublist no. 4: 7\n",
      "List before deleting elements:  [['1', '2', '3', '4'], ['2', '3', '4', '5'], ['3', '4', '5', '6'], ['4', '5', '6', '7']]\n",
      "List after deleting elements:  [['1', '2', '3'], ['2', '3', '4'], ['3', '4', '5'], ['4', '5', '6']]\n"
     ]
    }
   ],
   "source": [
    "m = int(input(\"Enter length of outer list: \"))\n",
    "n = int(input(\"Enter length of sublists: \"))\n",
    "arra = []\n",
    "for i in range (0,m):\n",
    "    sublist = []\n",
    "    for j in range (0,n):\n",
    "        t = input(\"Enter element no. %s of sublist no. %s: \" %(j+1, i+1))\n",
    "        sublist.append(t)\n",
    "    arra.append(sublist)\n",
    "    \n",
    "print(\"List before deleting elements: \", arra)\n",
    "\n",
    "for i in range (0,m):\n",
    "    del arra[i][n-1]\n",
    "    \n",
    "print(\"List after deleting elements: \", arra)"
   ]
  },
  {
   "cell_type": "markdown",
   "id": "a0d8fbb0",
   "metadata": {},
   "source": [
    "## Question 8:"
   ]
  },
  {
   "cell_type": "markdown",
   "id": "a897f747",
   "metadata": {},
   "source": [
    "Given a dictionary, write a program to find the sum of all values in the dictionary. You can choose the following dictionaries to test your code or make your own. Note that the values associated with the keys should be numbers and cannot be strings.\n",
    "\n",
    "Input: ’a’: 100, ’b’:200, ’c’:300\n",
    "\n",
    "Output: 600\n",
    "\n",
    "Input: ’x’: 25, ’y’:18, ’z’:45\n",
    "\n",
    "Output: 88\n"
   ]
  },
  {
   "cell_type": "code",
   "execution_count": 7,
   "id": "18583b54",
   "metadata": {},
   "outputs": [
    {
     "name": "stdout",
     "output_type": "stream",
     "text": [
      "Enter the limit5\n",
      "Enter key 1: a\n",
      "Enter value 1: 1\n",
      "Enter key 2: b\n",
      "Enter value 2: 2\n",
      "Enter key 3: c\n",
      "Enter value 3: 3\n",
      "Enter key 4: d\n",
      "Enter value 4: 4\n",
      "Enter key 5: e\n",
      "Enter value 5: 5\n",
      "15\n"
     ]
    }
   ],
   "source": [
    "n = int(input(\"Enter the limit\"))\n",
    "dicti = {}\n",
    "for i in range (0,n):\n",
    "    key = input(\"Enter key %s: \" %(i+1))\n",
    "    value = int(input('Enter value %s: ' %(i+1)))\n",
    "    dicti[key] = value\n",
    "print(sum(dicti.values()))"
   ]
  },
  {
   "cell_type": "markdown",
   "id": "c87d8134",
   "metadata": {},
   "source": [
    "## Question 9:"
   ]
  },
  {
   "cell_type": "markdown",
   "id": "3d354ddb",
   "metadata": {},
   "source": [
    "Consider the following tuple of tuples (t_o_t)\n",
    "`t_o_t = (('jan', 'feb', 'mar', 'apr', 'may', 'jun', 'jul'), ('sun', 'mon', ‘tue’, 'wed', 'thu', 'fri', 'sat'))`\n",
    "Using appropriate indexing of the tuple `t_o_t`, extract and print the items ‘apr’, ‘fri’ from `t_o_t`.\n",
    "Then print following items in the given order: `jan, ('sun', 'mon', ‘tue’, 'wed', 'thu', 'fri', 'sat')`\n"
   ]
  },
  {
   "cell_type": "code",
   "execution_count": 10,
   "id": "ce482450",
   "metadata": {},
   "outputs": [
    {
     "name": "stdout",
     "output_type": "stream",
     "text": [
      "apr, fri\n",
      "jan, ('sun', 'mon', 'tue', 'wed', 'thu', 'fri', 'sat')\n"
     ]
    }
   ],
   "source": [
    "t_o_t = (('jan', 'feb', 'mar', 'apr', 'may', 'jun', 'jul'), ('sun', 'mon', 'tue', 'wed', 'thu', 'fri', 'sat'))\n",
    "print(t_o_t[0][3], t_o_t[1][5], sep=', ')\n",
    "print(t_o_t[0][0], t_o_t[1], sep=', ')"
   ]
  },
  {
   "cell_type": "markdown",
   "id": "3ada890f",
   "metadata": {},
   "source": [
    "## Question 10:"
   ]
  },
  {
   "cell_type": "markdown",
   "id": "6e078e1d",
   "metadata": {},
   "source": [
    "Given a list, convert it into a dictionary by mapping alternate elements as key-value pairs.\n",
    "\n",
    "If you use the following list as input: `lst = [2, 3, 5, 6, 7, 8]` for testing the code.\n",
    "\n",
    "Output: `{2: 5, 3: 6, 5: 7, 6: 8}`"
   ]
  },
  {
   "cell_type": "code",
   "execution_count": 12,
   "id": "d5d6fb8a",
   "metadata": {},
   "outputs": [
    {
     "name": "stdout",
     "output_type": "stream",
     "text": [
      "Enter limit: 6\n",
      "Enter element no. 1: 2\n",
      "Enter element no. 2: 3\n",
      "Enter element no. 3: 5\n",
      "Enter element no. 4: 6\n",
      "Enter element no. 5: 7\n",
      "Enter element no. 6: 8\n",
      "dict_items([('2', '5'), ('3', '6'), ('5', '7'), ('6', '8')])\n"
     ]
    }
   ],
   "source": [
    "lst = []\n",
    "n = int(input('Enter limit: '))\n",
    "for i in range (0,n):\n",
    "    x = input(\"Enter element no. %s: \" %(i+1))\n",
    "    lst.append(x)\n",
    "dicti = {}\n",
    "for i in range (0,n):\n",
    "    if (i<n-2):\n",
    "        dicti[lst[i]] = lst[i+2]\n",
    "print(dicti.items())"
   ]
  },
  {
   "cell_type": "code",
   "execution_count": null,
   "id": "6d49d4d0",
   "metadata": {},
   "outputs": [],
   "source": []
  }
 ],
 "metadata": {
  "kernelspec": {
   "display_name": "Python 3 (ipykernel)",
   "language": "python",
   "name": "python3"
  },
  "language_info": {
   "codemirror_mode": {
    "name": "ipython",
    "version": 3
   },
   "file_extension": ".py",
   "mimetype": "text/x-python",
   "name": "python",
   "nbconvert_exporter": "python",
   "pygments_lexer": "ipython3",
   "version": "3.9.7"
  }
 },
 "nbformat": 4,
 "nbformat_minor": 5
}
