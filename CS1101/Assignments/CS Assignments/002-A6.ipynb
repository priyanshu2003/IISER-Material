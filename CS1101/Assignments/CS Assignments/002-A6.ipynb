{
 "cells": [
  {
   "cell_type": "markdown",
   "id": "ae1892cb",
   "metadata": {},
   "source": [
    "# CS1101 Assignment - 6"
   ]
  },
  {
   "cell_type": "markdown",
   "id": "3c145643",
   "metadata": {},
   "source": [
    "## Question 1:"
   ]
  },
  {
   "cell_type": "markdown",
   "id": "152d74b4",
   "metadata": {},
   "source": [
    "Define a function which takes n as an argument and evaluates $$g(n) = \\sum_{i=1}^{n} \\frac{i}{i+1}$$\n",
    "Print the values of g(n) for n = 1 to 20.\n"
   ]
  },
  {
   "cell_type": "code",
   "execution_count": 1,
   "id": "ab08324b",
   "metadata": {},
   "outputs": [
    {
     "name": "stdout",
     "output_type": "stream",
     "text": [
      "g(1) =  0.5\n",
      "g(2) =  1.1666666666666665\n",
      "g(3) =  1.9166666666666665\n",
      "g(4) =  2.716666666666667\n",
      "g(5) =  3.5500000000000003\n",
      "g(6) =  4.4071428571428575\n",
      "g(7) =  5.2821428571428575\n",
      "g(8) =  6.171031746031746\n",
      "g(9) =  7.071031746031746\n",
      "g(10) =  7.980122655122655\n",
      "g(11) =  8.896789321789322\n",
      "g(12) =  9.819866244866246\n",
      "g(13) =  10.748437673437675\n",
      "g(14) =  11.681771006771008\n",
      "g(15) =  12.619271006771008\n",
      "g(16) =  13.560447477359244\n",
      "g(17) =  14.504891921803688\n",
      "g(18) =  15.45226034285632\n",
      "g(19) =  16.40226034285632\n",
      "g(20) =  17.354641295237272\n"
     ]
    }
   ],
   "source": [
    "def series(n):\n",
    "    S = 0\n",
    "    term = 0\n",
    "    for i in range(1, n+1):\n",
    "        term = i/(i+1)\n",
    "        S = S + term\n",
    "    return S\n",
    "\n",
    "\n",
    "for i in range(1, 21):\n",
    "    print(\"g(%s) = \" % (i), series(i))"
   ]
  },
  {
   "cell_type": "markdown",
   "id": "c22a4f94",
   "metadata": {},
   "source": [
    "## Question 2:"
   ]
  },
  {
   "cell_type": "markdown",
   "id": "86590ec8",
   "metadata": {},
   "source": [
    "Define a function which calculates the factorial of a given number. Show the usage of the function \n",
    "by calculating the factorials from $n=1$ to $8$."
   ]
  },
  {
   "cell_type": "code",
   "execution_count": 1,
   "id": "e6942261",
   "metadata": {},
   "outputs": [
    {
     "name": "stdout",
     "output_type": "stream",
     "text": [
      "1! = 1\n",
      "2! = 2\n",
      "3! = 6\n",
      "4! = 24\n",
      "5! = 120\n",
      "6! = 720\n",
      "7! = 5040\n",
      "8! = 40320\n"
     ]
    }
   ],
   "source": [
    "def fact(n):\n",
    "    if n == 1:\n",
    "        return 1\n",
    "    else:\n",
    "        return n * fact(n - 1)\n",
    "\n",
    "\n",
    "for i in range(1, 9):\n",
    "    print(\"%s! =\" % (i), fact(i))"
   ]
  },
  {
   "cell_type": "markdown",
   "id": "5d0ac766",
   "metadata": {},
   "source": [
    "## Question 3:"
   ]
  },
  {
   "cell_type": "markdown",
   "id": "3ea71cb7",
   "metadata": {},
   "source": [
    "If you need to evaluate mathematical operations (log, sin, cos etc), you need to declare ``from math import *`` at the beginning of your program. For example, to find the value of cosine of $60 ^\\circ$, your program should look like:\n",
    "\n",
    "    from math import *\n",
    "    print cos(60*pi/180)\n",
    "\n",
    "pi gives you the value of $\\pi$ and $\\theta \\dfrac{\\pi}{180}$ converts $\\theta$ from degree to radian."
   ]
  },
  {
   "cell_type": "markdown",
   "id": "bf5d0032",
   "metadata": {},
   "source": [
    "Define a function which takes an argument $t$ and returns $\\sin 2t$. Next write a loop which uses the \n",
    "function to print θ, sin 2θ for θ = 0, 10, 20, 30, . . . , 80, 90.\n"
   ]
  },
  {
   "cell_type": "code",
   "execution_count": 6,
   "id": "cc6a36ff",
   "metadata": {},
   "outputs": [
    {
     "name": "stdout",
     "output_type": "stream",
     "text": [
      "0, sin(2*0) = 0.0\n",
      "10, sin(2*10) = 0.9129452507276277\n",
      "20, sin(2*20) = 0.7451131604793488\n",
      "30, sin(2*30) = -0.3048106211022167\n",
      "40, sin(2*40) = -0.9938886539233752\n",
      "50, sin(2*50) = -0.5063656411097588\n",
      "60, sin(2*60) = 0.5806111842123143\n",
      "70, sin(2*70) = 0.9802396594403116\n",
      "80, sin(2*80) = 0.21942525837900473\n",
      "90, sin(2*90) = -0.8011526357338304\n"
     ]
    }
   ],
   "source": [
    "from math import *\n",
    "\n",
    "\n",
    "def doubleangle(t):\n",
    "    d = 2*t\n",
    "    return sin(d)\n",
    "\n",
    "\n",
    "for i in range(0, 91, 10):\n",
    "    print(\"%s, sin(2*%s) =\" % (i, i), doubleangle(i))"
   ]
  },
  {
   "cell_type": "markdown",
   "id": "b904e612",
   "metadata": {},
   "source": [
    "## Question 4:"
   ]
  },
  {
   "cell_type": "markdown",
   "id": "730e8f1e",
   "metadata": {},
   "source": [
    "Write a program to take a line of text as input; decipher the text by interchanging the odd positions characters with the even position characters.\n",
    "\n",
    "Input: Enter a text: Satyajit Ray\n",
    "\n",
    "Output: The result is: aSytjatiR ya\n",
    "\n",
    "Input: Enter a text: Covid19 Vaccine\n",
    "\n",
    "Output: The result is: oCiv1d 9aVccnie\n"
   ]
  },
  {
   "cell_type": "code",
   "execution_count": 17,
   "id": "002f9fc5",
   "metadata": {},
   "outputs": [
    {
     "name": "stdout",
     "output_type": "stream",
     "text": [
      "Enter a text: Covid19 Vaccine\n",
      "Output:  oCiv1d 9aVccnie\n"
     ]
    }
   ],
   "source": [
    "x = input(\"Enter a text: \")\n",
    "y = list(x)\n",
    "l = len(x)\n",
    "for i in range(0, l-1):\n",
    "    if i % 2 == 0:\n",
    "        temp = y[i]\n",
    "        y[i] = y[i+1]\n",
    "        y[i+1] = temp\n",
    "print(\"Output: \", ''.join(y))"
   ]
  },
  {
   "cell_type": "markdown",
   "id": "9574249e",
   "metadata": {},
   "source": [
    "## Question 5:"
   ]
  },
  {
   "cell_type": "markdown",
   "id": "79ae2031",
   "metadata": {},
   "source": [
    "Write a program that takes a string as input and removes what is inside the brackets.\n",
    "\n",
    "Input: Enter a string: Indian Statistical Institute (ISI) is a public research university.\n",
    "\n",
    "Output: Indian Statistical Institute is a public research university."
   ]
  },
  {
   "cell_type": "code",
   "execution_count": 32,
   "id": "a4b71c2f",
   "metadata": {},
   "outputs": [
    {
     "name": "stdout",
     "output_type": "stream",
     "text": [
      "Enter a text: Indian Statistical Institute (ISI) is a public research university.\n",
      "Indian Statistical Institute  is a public research university.\n"
     ]
    }
   ],
   "source": [
    "import re\n",
    "\n",
    "n = str(input(\"Enter a text: \"))\n",
    "nt = re.sub(\"\\(.*?\\)\", '', n)\n",
    "print(nt)"
   ]
  },
  {
   "cell_type": "markdown",
   "id": "72d36eb9",
   "metadata": {},
   "source": [
    "## Question 6:"
   ]
  },
  {
   "cell_type": "markdown",
   "id": "552a6c3b",
   "metadata": {},
   "source": [
    "Write a program that takes an integer N and then would take N positive integers as input into a list. Then count the number of even and odd numbers from a series of numbers."
   ]
  },
  {
   "cell_type": "code",
   "execution_count": 34,
   "id": "6f6dbb14",
   "metadata": {},
   "outputs": [
    {
     "name": "stdout",
     "output_type": "stream",
     "text": [
      "Enter the number of integers you want to consider: 10\n",
      "Enter a positive integer (1): 1\n",
      "Enter a positive integer (2): 2\n",
      "Enter a positive integer (3): 3\n",
      "Enter a positive integer (4): 4\n",
      "Enter a positive integer (5): 5\n",
      "Enter a positive integer (6): 6\n",
      "Enter a positive integer (7): 7\n",
      "Enter a positive integer (8): 89\n",
      "Enter a positive integer (9): 10\n",
      "Enter a positive integer (10): 11\n",
      "No. of Even Numbers :  4\n",
      "No. of Odd Numbers :  6\n"
     ]
    }
   ],
   "source": [
    "l = []\n",
    "n = int(input(\"Enter the number of integers you want to consider: \"))\n",
    "for i in range(0, n):\n",
    "    x = int(input(\"Enter a positive integer (%s): \"%(i+1)))\n",
    "    l.append(x)\n",
    "\n",
    "even, odd = 0, 0\n",
    "\n",
    "for i in l:\n",
    "\n",
    "    if i % 2 == 0:\n",
    "\n",
    "        even += 1\n",
    "\n",
    "    else:\n",
    "\n",
    "        odd += 1\n",
    "\n",
    "print(\"No. of Even Numbers : \", even)\n",
    "\n",
    "print(\"No. of Odd Numbers : \", odd)"
   ]
  },
  {
   "cell_type": "markdown",
   "id": "1172bd63",
   "metadata": {},
   "source": [
    "## Question 7:"
   ]
  },
  {
   "cell_type": "markdown",
   "id": "f912ae03",
   "metadata": {},
   "source": [
    "Write a program to find the sum of the following series, given an integer n: 3 + 33 + 333 + 3333 + ... upto n terms.\n",
    "\n",
    "    Input: Enter an integer: 6\n",
    "    Output: The result is: 370368\n",
    "    Input: Enter an integer: 9\n",
    "    Output: The result is: 370370367"
   ]
  },
  {
   "cell_type": "code",
   "execution_count": 27,
   "id": "b97e2151",
   "metadata": {},
   "outputs": [
    {
     "name": "stdout",
     "output_type": "stream",
     "text": [
      "Enter the range of number:9\n",
      "The sum of the series =  370370367\n"
     ]
    }
   ],
   "source": [
    "n = int(input(\"Enter the range of number:\"))\n",
    "sum = 0\n",
    "p = 3\n",
    "for i in range(1, n+1):\n",
    "    sum += p\n",
    "    p = (p*10)+3\n",
    "print(\"The sum of the series = \", sum)"
   ]
  },
  {
   "cell_type": "markdown",
   "id": "91fcaf66",
   "metadata": {},
   "source": [
    "## Question 8:"
   ]
  },
  {
   "cell_type": "markdown",
   "id": "2c50e0a4",
   "metadata": {},
   "source": [
    "A strong number where the sum of the factorials of the digits making up the number is the \n",
    "number itself. \n",
    "\n",
    "Example: 145=1!+4!+5!. \n",
    "\n",
    "Write a program to generate all strong numbers between 1 and 100,000."
   ]
  },
  {
   "cell_type": "code",
   "execution_count": 35,
   "id": "461d1455",
   "metadata": {},
   "outputs": [
    {
     "name": "stdout",
     "output_type": "stream",
     "text": [
      "Strong numbers from 1 to 100000 are:\n",
      "1\n",
      "2\n",
      "145\n",
      "40585\n"
     ]
    }
   ],
   "source": [
    "# function to find factorial\n",
    "def fact(n):\n",
    "    f = 1\n",
    "\n",
    "    for i in range(1, n+1):\n",
    "        f *= i\n",
    "\n",
    "    return f\n",
    "\n",
    "\n",
    "# function to check strong\n",
    "def is_strong(n):\n",
    "\n",
    "    if n < 0:\n",
    "        return False\n",
    "\n",
    "    number_copy = n\n",
    "    strong_sum = 0\n",
    "\n",
    "    while n:\n",
    "        remainder = n % 10\n",
    "        strong_sum += fact(remainder)\n",
    "        n //= 10\n",
    "\n",
    "    return strong_sum == number_copy\n",
    "\n",
    "\n",
    "min_value = 1\n",
    "max_value = 100000\n",
    "\n",
    "# Looping & displaying if it is Strong\n",
    "print('Strong numbers from %d to %d are:' % (min_value, max_value))\n",
    "for i in range(min_value, max_value+1):\n",
    "    if is_strong(i):\n",
    "        print(i)"
   ]
  },
  {
   "cell_type": "code",
   "execution_count": null,
   "id": "13f28fb2",
   "metadata": {},
   "outputs": [],
   "source": []
  }
 ],
 "metadata": {
  "kernelspec": {
   "display_name": "Python 3 (ipykernel)",
   "language": "python",
   "name": "python3"
  },
  "language_info": {
   "codemirror_mode": {
    "name": "ipython",
    "version": 3
   },
   "file_extension": ".py",
   "mimetype": "text/x-python",
   "name": "python",
   "nbconvert_exporter": "python",
   "pygments_lexer": "ipython3",
   "version": "3.10.2"
  },
  "notify_time": "5"
 },
 "nbformat": 4,
 "nbformat_minor": 5
}
