{
 "cells": [
  {
   "cell_type": "markdown",
   "id": "5bae1e4e",
   "metadata": {},
   "source": [
    "# Question 1:"
   ]
  },
  {
   "cell_type": "markdown",
   "id": "f3472039",
   "metadata": {},
   "source": [
    "(a) Type python to start a python shell"
   ]
  },
  {
   "cell_type": "markdown",
   "id": "f896cd37",
   "metadata": {},
   "source": [
    "(b) Create a list of integers from 0 to 9 and store the list in variable x."
   ]
  },
  {
   "cell_type": "code",
   "execution_count": 55,
   "id": "2172261a",
   "metadata": {},
   "outputs": [
    {
     "name": "stdout",
     "output_type": "stream",
     "text": [
      "[0, 1, 2, 3, 4, 5, 6, 7, 8, 9]\n"
     ]
    }
   ],
   "source": [
    "x=[] #initialising variable x to store a list\n",
    "for i in range(0,10):\n",
    "    x.append(i)\n",
    "print(x)"
   ]
  },
  {
   "cell_type": "markdown",
   "id": "52958c59",
   "metadata": {},
   "source": [
    "(c) Create a list of integers from 3 to 12 and store the list in variable y"
   ]
  },
  {
   "cell_type": "code",
   "execution_count": 56,
   "id": "37a56b61",
   "metadata": {},
   "outputs": [
    {
     "name": "stdout",
     "output_type": "stream",
     "text": [
      "[3, 4, 5, 6, 7, 8, 9, 10, 11, 12]\n"
     ]
    }
   ],
   "source": [
    "y=[] #initialising variable y\n",
    "for i in range(3,13):\n",
    "    y.append(i)\n",
    "print(y)"
   ]
  },
  {
   "cell_type": "markdown",
   "id": "a01bef3f",
   "metadata": {},
   "source": [
    "(d) Using a single print command, print the list in x in reverse"
   ]
  },
  {
   "cell_type": "code",
   "execution_count": 57,
   "id": "ab6f18ac",
   "metadata": {
    "scrolled": false
   },
   "outputs": [
    {
     "name": "stdout",
     "output_type": "stream",
     "text": [
      "[9, 8, 7, 6, 5, 4, 3, 2, 1, 0]\n"
     ]
    }
   ],
   "source": [
    "print(list(reversed(x)))"
   ]
  },
  {
   "cell_type": "markdown",
   "id": "0b64c6c9",
   "metadata": {},
   "source": [
    "(e) Using a single print command, print the list of odd entries in x and then the list of even entries in x"
   ]
  },
  {
   "cell_type": "code",
   "execution_count": 58,
   "id": "c75ce661",
   "metadata": {},
   "outputs": [
    {
     "name": "stdout",
     "output_type": "stream",
     "text": [
      "[1, 3, 5, 7, 9]\n"
     ]
    }
   ],
   "source": [
    "print(list(filter(lambda z: (z%2 != 0), x)))"
   ]
  },
  {
   "cell_type": "code",
   "execution_count": 59,
   "id": "50a3f60a",
   "metadata": {},
   "outputs": [
    {
     "name": "stdout",
     "output_type": "stream",
     "text": [
      "[0, 2, 4, 6, 8]\n"
     ]
    }
   ],
   "source": [
    "print(list(filter(lambda z: (z%2 == 0), x)))"
   ]
  },
  {
   "cell_type": "markdown",
   "id": "c45fae5f",
   "metadata": {},
   "source": [
    "(f) Check whether the 4th item of x is same as the 1st item of y by extracting those items"
   ]
  },
  {
   "cell_type": "code",
   "execution_count": 60,
   "id": "5d546a15",
   "metadata": {},
   "outputs": [
    {
     "name": "stdout",
     "output_type": "stream",
     "text": [
      "True\n"
     ]
    }
   ],
   "source": [
    "x4 = x[3]\n",
    "y1 = y[0]\n",
    "print(x4 == y1)"
   ]
  },
  {
   "cell_type": "markdown",
   "id": "eebb6426",
   "metadata": {},
   "source": [
    "(g) Check whether the number 10 is in the list x"
   ]
  },
  {
   "cell_type": "code",
   "execution_count": 61,
   "id": "d038c03a",
   "metadata": {},
   "outputs": [
    {
     "name": "stdout",
     "output_type": "stream",
     "text": [
      "False\n"
     ]
    }
   ],
   "source": [
    "for i in range (0,10):\n",
    "    if(x[i]==10):\n",
    "        print(True)\n",
    "        break\n",
    "else:\n",
    "    print(False)"
   ]
  },
  {
   "cell_type": "markdown",
   "id": "9767afcf",
   "metadata": {},
   "source": [
    "(h) Check whether the number 7 is in the list y"
   ]
  },
  {
   "cell_type": "code",
   "execution_count": 62,
   "id": "b28a0500",
   "metadata": {},
   "outputs": [
    {
     "name": "stdout",
     "output_type": "stream",
     "text": [
      "True\n"
     ]
    }
   ],
   "source": [
    "for i in range (0,10):\n",
    "    if(y[i]==7):\n",
    "        print(True)\n",
    "        break\n",
    "else:\n",
    "    print(False)"
   ]
  },
  {
   "cell_type": "markdown",
   "id": "4a2c15f9",
   "metadata": {},
   "source": [
    "(i) Get a combined list (added) of the items of x and y"
   ]
  },
  {
   "cell_type": "code",
   "execution_count": 63,
   "id": "f67237e9",
   "metadata": {},
   "outputs": [
    {
     "name": "stdout",
     "output_type": "stream",
     "text": [
      "[0, 1, 2, 3, 4, 5, 6, 7, 8, 9, 3, 4, 5, 6, 7, 8, 9, 10, 11, 12]\n"
     ]
    }
   ],
   "source": [
    "x1 = x\n",
    "for i in range (0,10):\n",
    "    x1.append(y[i])\n",
    "print(x1)"
   ]
  },
  {
   "cell_type": "markdown",
   "id": "8aa5af7e",
   "metadata": {},
   "source": [
    "(j) After reversing the list x, create a combined list that consists of the reversed x and original y. Find the location of the maximum and minimum numbers in this combined list."
   ]
  },
  {
   "cell_type": "code",
   "execution_count": 77,
   "id": "10544fa1",
   "metadata": {},
   "outputs": [
    {
     "name": "stdout",
     "output_type": "stream",
     "text": [
      "[9, 8, 7, 6, 5, 4, 3, 2, 1, 0, 3, 4, 5, 6, 7, 8, 9, 10, 11, 12]\n",
      "20\n",
      "10\n"
     ]
    }
   ],
   "source": [
    "x=[]\n",
    "for i in range(0,10):\n",
    "    x.append(i)\n",
    "x1 = list(reversed(x))\n",
    "for i in range(0,10):\n",
    "    x1.append(y[i])\n",
    "max = x1[0]\n",
    "min = x1[0]\n",
    "print(x1)\n",
    "for i in range (0, len(x1)):\n",
    "    if (x1[i] >= max):\n",
    "        max = x1[i]\n",
    "        max_index = i\n",
    "    if (x1[i] <= min):\n",
    "        min = x1[i]\n",
    "        min_index = i\n",
    "print(max_index+1)\n",
    "print(min_index+1)"
   ]
  },
  {
   "cell_type": "markdown",
   "id": "19d3dfcc",
   "metadata": {},
   "source": [
    "# Question 2:"
   ]
  },
  {
   "cell_type": "markdown",
   "id": "3408bc8d",
   "metadata": {},
   "source": [
    "## Strings are Lists"
   ]
  },
  {
   "cell_type": "markdown",
   "id": "7f870e4d",
   "metadata": {},
   "source": [
    "(a) Store a string: “The quick brown fox jumps over the lazy dog” in a variable x"
   ]
  },
  {
   "cell_type": "code",
   "execution_count": 83,
   "id": "f49996f7",
   "metadata": {},
   "outputs": [],
   "source": [
    "x = \"The quick brown fox jumps over the lazy dog\""
   ]
  },
  {
   "cell_type": "markdown",
   "id": "4b64cc59",
   "metadata": {},
   "source": [
    "(b) Check whether the word fox is in this sentence"
   ]
  },
  {
   "cell_type": "code",
   "execution_count": 84,
   "id": "6d6e0894",
   "metadata": {},
   "outputs": [
    {
     "name": "stdout",
     "output_type": "stream",
     "text": [
      "True\n"
     ]
    }
   ],
   "source": [
    "print(\"fox\" in x)"
   ]
  },
  {
   "cell_type": "markdown",
   "id": "658a9263",
   "metadata": {},
   "source": [
    "(c) Print the sentence in reverse order"
   ]
  },
  {
   "cell_type": "code",
   "execution_count": 85,
   "id": "d26335c6",
   "metadata": {},
   "outputs": [
    {
     "name": "stdout",
     "output_type": "stream",
     "text": [
      "god yzal eht revo spmuj xof nworb kciuq ehT\n"
     ]
    }
   ],
   "source": [
    "print(\"\".join(reversed(x)))"
   ]
  },
  {
   "cell_type": "markdown",
   "id": "a714874d",
   "metadata": {},
   "source": [
    "(d) Print every third character of the above sentence"
   ]
  },
  {
   "cell_type": "code",
   "execution_count": 94,
   "id": "45c72ae0",
   "metadata": {
    "scrolled": true
   },
   "outputs": [
    {
     "name": "stdout",
     "output_type": "stream",
     "text": [
      "e\n",
      "u\n",
      "k\n",
      "r\n",
      "n\n",
      "o\n",
      "j\n",
      "p\n",
      "o\n",
      "r\n",
      "h\n",
      "l\n",
      "y\n",
      "o\n"
     ]
    }
   ],
   "source": [
    "x1 = x.split()\n",
    "x2 = list(x)\n",
    "for i in range(0,len(x2)):\n",
    "    if ((i+1)%3 == 0) :\n",
    "        print(x2[i])"
   ]
  },
  {
   "cell_type": "markdown",
   "id": "1476083a",
   "metadata": {},
   "source": [
    "(e) Print every fourth character of the above sentence"
   ]
  },
  {
   "cell_type": "code",
   "execution_count": 95,
   "id": "5a5631f6",
   "metadata": {},
   "outputs": [
    {
     "name": "stdout",
     "output_type": "stream",
     "text": [
      " \n",
      "c\n",
      "r\n",
      " \n",
      " \n",
      "p\n",
      "v\n",
      "t\n",
      "l\n",
      " \n"
     ]
    }
   ],
   "source": [
    "x1 = x.split()\n",
    "x2 = list(x)\n",
    "for i in range(0,len(x2)):\n",
    "    if ((i+1)%4 == 0) :\n",
    "        print(x2[i])"
   ]
  },
  {
   "cell_type": "markdown",
   "id": "a666386d",
   "metadata": {},
   "source": [
    "(f) Find how many characters are there in the sentence (including spaces)"
   ]
  },
  {
   "cell_type": "code",
   "execution_count": 96,
   "id": "6ae06fea",
   "metadata": {},
   "outputs": [
    {
     "name": "stdout",
     "output_type": "stream",
     "text": [
      "43\n"
     ]
    }
   ],
   "source": [
    "print(len(x2))"
   ]
  },
  {
   "cell_type": "markdown",
   "id": "339b7da1",
   "metadata": {},
   "source": [
    "(g) Print every second character of the sentence starting from the last character in reverse order"
   ]
  },
  {
   "cell_type": "code",
   "execution_count": 101,
   "id": "08b24e5b",
   "metadata": {},
   "outputs": [
    {
     "name": "stdout",
     "output_type": "stream",
     "text": [
      "['g', 'o', 'd', ' ', 'y', 'z', 'a', 'l', ' ', 'e', 'h', 't', ' ', 'r', 'e', 'v', 'o', ' ', 's', 'p', 'm', 'u', 'j', ' ', 'x', 'o', 'f', ' ', 'n', 'w', 'o', 'r', 'b', ' ', 'k', 'c', 'i', 'u', 'q', ' ', 'e', 'h', 'T']\n",
      "o\n",
      " \n",
      "z\n",
      "l\n",
      "e\n",
      "t\n",
      "r\n",
      "v\n",
      " \n",
      "p\n",
      "u\n",
      " \n",
      "o\n",
      " \n",
      "w\n",
      "r\n",
      " \n",
      "c\n",
      "u\n",
      " \n",
      "h\n"
     ]
    }
   ],
   "source": [
    "rev = \"\".join(reversed(x))\n",
    "rev_char_list = list(rev)\n",
    "print(rev_char_list)\n",
    "for i in range(1,len(rev_char_list)):\n",
    "    if ((i+1)%2 == 0) :\n",
    "        print(rev_char_list[i])"
   ]
  },
  {
   "cell_type": "markdown",
   "id": "4e95ce32",
   "metadata": {},
   "source": [
    "(h) Store the first four character of x in a variable y and the last three letters in a variable z"
   ]
  },
  {
   "cell_type": "code",
   "execution_count": 107,
   "id": "c7c915b0",
   "metadata": {},
   "outputs": [
    {
     "name": "stdout",
     "output_type": "stream",
     "text": [
      "The dog\n"
     ]
    }
   ],
   "source": [
    "y = (x[:4])\n",
    "z = x[len(x)-3:len(x)]\n",
    "print(y+z)"
   ]
  },
  {
   "cell_type": "markdown",
   "id": "60c18063",
   "metadata": {},
   "source": [
    "(i) Check the output of y*10"
   ]
  },
  {
   "cell_type": "code",
   "execution_count": 108,
   "id": "4b08d284",
   "metadata": {},
   "outputs": [
    {
     "name": "stdout",
     "output_type": "stream",
     "text": [
      "The The The The The The The The The The \n"
     ]
    }
   ],
   "source": [
    "print(y*10)"
   ]
  },
  {
   "cell_type": "markdown",
   "id": "170f6f1e",
   "metadata": {},
   "source": [
    "# Question 3:"
   ]
  },
  {
   "cell_type": "markdown",
   "id": "1b32ab1b",
   "metadata": {},
   "source": [
    "## Numbers"
   ]
  },
  {
   "cell_type": "markdown",
   "id": "fafb559b",
   "metadata": {},
   "source": [
    "(a) Store 1.2 in a variable x"
   ]
  },
  {
   "cell_type": "markdown",
   "id": "a44e15a7",
   "metadata": {},
   "source": [
    "(b) Store 12 in a variable y"
   ]
  },
  {
   "cell_type": "markdown",
   "id": "a716d0dc",
   "metadata": {},
   "source": [
    "(c) Store 24 in a variable z"
   ]
  },
  {
   "cell_type": "markdown",
   "id": "5d60119e",
   "metadata": {},
   "source": [
    "(d) Check the output of x/y, y/z and z/x. Are all of them float?"
   ]
  },
  {
   "cell_type": "code",
   "execution_count": 112,
   "id": "bdea2cc8",
   "metadata": {},
   "outputs": [
    {
     "name": "stdout",
     "output_type": "stream",
     "text": [
      "0.09999999999999999\n",
      "<class 'float'>\n",
      "0.5\n",
      "<class 'float'>\n",
      "20.0\n",
      "<class 'float'>\n",
      "Yes, they all are of data type = Float\n"
     ]
    }
   ],
   "source": [
    "x = 1.2\n",
    "y = 12\n",
    "z = 24\n",
    "print(x/y)\n",
    "print(type(x/y))\n",
    "print(y/z)\n",
    "print(type(y/z))\n",
    "print(z/x)\n",
    "print(type(z/x))\n",
    "print('Yes, they all are of data type = Float')"
   ]
  },
  {
   "cell_type": "markdown",
   "id": "0014f4dc",
   "metadata": {},
   "source": [
    "(e) Find 7th power of 3"
   ]
  },
  {
   "cell_type": "code",
   "execution_count": 113,
   "id": "73d63a04",
   "metadata": {},
   "outputs": [
    {
     "name": "stdout",
     "output_type": "stream",
     "text": [
      "2187\n"
     ]
    }
   ],
   "source": [
    "print(3**7)"
   ]
  },
  {
   "cell_type": "markdown",
   "id": "462b23a9",
   "metadata": {},
   "source": [
    "(f) Check whether 2.0^3 is equal to 8.0"
   ]
  },
  {
   "cell_type": "code",
   "execution_count": 114,
   "id": "22945990",
   "metadata": {},
   "outputs": [
    {
     "name": "stdout",
     "output_type": "stream",
     "text": [
      "True\n"
     ]
    }
   ],
   "source": [
    "print(2.0**3 == 8.0)"
   ]
  },
  {
   "cell_type": "markdown",
   "id": "24c0e295",
   "metadata": {},
   "source": [
    "(g) Compare outputs of y+z and str(y)+str(z)"
   ]
  },
  {
   "cell_type": "code",
   "execution_count": 117,
   "id": "23dfd76e",
   "metadata": {},
   "outputs": [
    {
     "name": "stdout",
     "output_type": "stream",
     "text": [
      "36\n",
      "1224\n"
     ]
    }
   ],
   "source": [
    "print(y+z) #Numerical Addition\n",
    "print(str(y)+str(z)) #String Concatenation"
   ]
  },
  {
   "cell_type": "markdown",
   "id": "58028148",
   "metadata": {},
   "source": [
    "# Question 4:"
   ]
  },
  {
   "cell_type": "markdown",
   "id": "0a17032a",
   "metadata": {},
   "source": [
    "## Miscellaneous"
   ]
  },
  {
   "cell_type": "markdown",
   "id": "e93fd857",
   "metadata": {},
   "source": [
    "a) Print 'Hello World' on the screen"
   ]
  },
  {
   "cell_type": "markdown",
   "id": "81fafdb0",
   "metadata": {},
   "source": [
    "b) Add a comment to the above program"
   ]
  },
  {
   "cell_type": "code",
   "execution_count": 119,
   "id": "f9015a32",
   "metadata": {},
   "outputs": [
    {
     "name": "stdout",
     "output_type": "stream",
     "text": [
      "'Hello World'\n"
     ]
    }
   ],
   "source": [
    "print('\\'Hello World\\'') #this program prints 'Hello World' on the screen"
   ]
  },
  {
   "cell_type": "markdown",
   "id": "25e69bb2",
   "metadata": {},
   "source": [
    "c) Store your name (e.g. Tintin), age (e.g. 20) and roll number (e.g. 21MS1234) in three variables and print them separately and also together like Hello! My name is Tintin. I am 20 years old. My roll number is 21MS1234 using these variables."
   ]
  },
  {
   "cell_type": "code",
   "execution_count": 122,
   "id": "3ae1ca07",
   "metadata": {},
   "outputs": [],
   "source": [
    "name = 'Priyanshu Mahato'\n",
    "age = 18\n",
    "roll = '21MS002'"
   ]
  },
  {
   "cell_type": "code",
   "execution_count": 123,
   "id": "06ad0db2",
   "metadata": {},
   "outputs": [
    {
     "name": "stdout",
     "output_type": "stream",
     "text": [
      "Priyanshu Mahato\n",
      "18\n",
      "21MS002\n"
     ]
    }
   ],
   "source": [
    "print(name)\n",
    "print(age)\n",
    "print(roll)"
   ]
  },
  {
   "cell_type": "code",
   "execution_count": 126,
   "id": "afd50550",
   "metadata": {},
   "outputs": [
    {
     "name": "stdout",
     "output_type": "stream",
     "text": [
      "Hello! My name is Priyanshu Mahato. I am 18 years old. My roll number is 21MS002.\n"
     ]
    }
   ],
   "source": [
    "print('Hello! My name is %s. I am %s years old. My roll number is %s.' %(name, age, roll))"
   ]
  },
  {
   "cell_type": "markdown",
   "id": "e25722e1",
   "metadata": {},
   "source": [
    "d) Take two number strings as input and print their sum"
   ]
  },
  {
   "cell_type": "code",
   "execution_count": 130,
   "id": "57c7e9d6",
   "metadata": {},
   "outputs": [
    {
     "name": "stdout",
     "output_type": "stream",
     "text": [
      "Enter a number: 10\n",
      "Enter a number: 20\n",
      "Sum = 30\n"
     ]
    }
   ],
   "source": [
    "x = str(input(\"Enter a number: \"))\n",
    "y = str(input(\"Enter a number: \"))\n",
    "print('Sum =', int(x)+int(y) )"
   ]
  },
  {
   "cell_type": "markdown",
   "id": "1a8db683",
   "metadata": {},
   "source": [
    "e) Take two integers as input and print their sum"
   ]
  },
  {
   "cell_type": "code",
   "execution_count": 131,
   "id": "2586b918",
   "metadata": {},
   "outputs": [
    {
     "name": "stdout",
     "output_type": "stream",
     "text": [
      "Enter a number: 10\n",
      "Enter a number: 20\n",
      "Sum = 30\n"
     ]
    }
   ],
   "source": [
    "x = int(input(\"Enter a number: \"))\n",
    "y = int(input(\"Enter a number: \"))\n",
    "print('Sum =', x+y)"
   ]
  },
  {
   "cell_type": "markdown",
   "id": "5e617eac",
   "metadata": {},
   "source": [
    "f) Use print() to print the statement -- It's good to learn Python"
   ]
  },
  {
   "cell_type": "code",
   "execution_count": 132,
   "id": "40132c48",
   "metadata": {},
   "outputs": [
    {
     "name": "stdout",
     "output_type": "stream",
     "text": [
      "It's good to learn Python\n"
     ]
    }
   ],
   "source": [
    "print('It\\'s good to learn Python')"
   ]
  },
  {
   "cell_type": "markdown",
   "id": "43b8264e",
   "metadata": {},
   "source": [
    "g) Use print() to print the statement -- The man asked, \"Where to meet you?\" I said, \"Well, use Google Meet!\""
   ]
  },
  {
   "cell_type": "code",
   "execution_count": 135,
   "id": "af9bdcbc",
   "metadata": {},
   "outputs": [
    {
     "name": "stdout",
     "output_type": "stream",
     "text": [
      "The man asked, \"Where to meet you?\" I said, \"Well, use Google Meet!\"\n"
     ]
    }
   ],
   "source": [
    "print(r'The man asked, \"Where to meet you?\" I said, \"Well, use Google Meet!\"')"
   ]
  },
  {
   "cell_type": "markdown",
   "id": "e81d8935",
   "metadata": {},
   "source": [
    "h) Print the data type of a variable"
   ]
  },
  {
   "cell_type": "code",
   "execution_count": 141,
   "id": "b8133cce",
   "metadata": {},
   "outputs": [
    {
     "name": "stdout",
     "output_type": "stream",
     "text": [
      "<class 'int'>\n"
     ]
    }
   ],
   "source": [
    "x=54\n",
    "print(type(x))"
   ]
  },
  {
   "cell_type": "markdown",
   "id": "13dc92cd",
   "metadata": {},
   "source": [
    "i) Take your name (e.g. Feluda) in the variable 'Name' as input and print My name is Feluda using Name."
   ]
  },
  {
   "cell_type": "code",
   "execution_count": 143,
   "id": "ef1285f2",
   "metadata": {},
   "outputs": [
    {
     "name": "stdout",
     "output_type": "stream",
     "text": [
      "Enter your name: Priyanshu\n",
      "My name is Priyanshu.\n"
     ]
    }
   ],
   "source": [
    "name = str(input('Enter your name: '))\n",
    "print('My name is %s.' %(name))"
   ]
  },
  {
   "cell_type": "markdown",
   "id": "339070ce",
   "metadata": {},
   "source": [
    "j) Take name (e.g. Sherlock), age (e.g. 40) and gender (e.g. Male) as input in variables and print Good Morning Sherlock! You are a Male of 40 years. using these variables"
   ]
  },
  {
   "cell_type": "code",
   "execution_count": 144,
   "id": "9ce8083c",
   "metadata": {},
   "outputs": [
    {
     "name": "stdout",
     "output_type": "stream",
     "text": [
      "Enter name: Priyanshu\n",
      "Enter age: 18\n",
      "Enter gender: Male\n",
      "Good Morning Priyanshu! You are a Male of 18 years.\n"
     ]
    }
   ],
   "source": [
    "name = input(\"Enter name: \")\n",
    "age = int(input(\"Enter age: \"))\n",
    "gender = input(\"Enter gender: \")\n",
    "print(\"Good Morning %s! You are a %s of %s years.\" %(name, gender, age))"
   ]
  },
  {
   "cell_type": "code",
   "execution_count": null,
   "id": "e0a908b1",
   "metadata": {},
   "outputs": [],
   "source": []
  }
 ],
 "metadata": {
  "kernelspec": {
   "display_name": "Python 3 (ipykernel)",
   "language": "python",
   "name": "python3"
  },
  "language_info": {
   "codemirror_mode": {
    "name": "ipython",
    "version": 3
   },
   "file_extension": ".py",
   "mimetype": "text/x-python",
   "name": "python",
   "nbconvert_exporter": "python",
   "pygments_lexer": "ipython3",
   "version": "3.9.7"
  }
 },
 "nbformat": 4,
 "nbformat_minor": 5
}
