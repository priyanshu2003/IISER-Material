{
 "cells": [
  {
   "cell_type": "markdown",
   "id": "53cf26ca",
   "metadata": {},
   "source": [
    "# **CS1101 Assignment - 2**"
   ]
  },
  {
   "cell_type": "markdown",
   "id": "794c9914",
   "metadata": {},
   "source": [
    "## Question 1:"
   ]
  },
  {
   "cell_type": "markdown",
   "id": "82ef3d7b",
   "metadata": {},
   "source": [
    "Modify the program given below such that it prints a serial number (starting from 1) followed by your name, 15 times in the terminal."
   ]
  },
  {
   "cell_type": "code",
   "execution_count": 6,
   "id": "c703e74d",
   "metadata": {},
   "outputs": [
    {
     "name": "stdout",
     "output_type": "stream",
     "text": [
      "1 Priyanshu Mahato\n",
      "2 Priyanshu Mahato\n",
      "3 Priyanshu Mahato\n",
      "4 Priyanshu Mahato\n",
      "5 Priyanshu Mahato\n",
      "6 Priyanshu Mahato\n",
      "7 Priyanshu Mahato\n",
      "8 Priyanshu Mahato\n",
      "9 Priyanshu Mahato\n",
      "10 Priyanshu Mahato\n",
      "11 Priyanshu Mahato\n",
      "12 Priyanshu Mahato\n",
      "13 Priyanshu Mahato\n",
      "14 Priyanshu Mahato\n",
      "15 Priyanshu Mahato\n"
     ]
    }
   ],
   "source": [
    "x = \"Priyanshu Mahato\"\n",
    "for i in range (1,16):\n",
    "    print('%s %s' %(i,x))"
   ]
  },
  {
   "cell_type": "markdown",
   "id": "2c727752",
   "metadata": {},
   "source": [
    "## Question 2:"
   ]
  },
  {
   "cell_type": "markdown",
   "id": "869a2df4",
   "metadata": {},
   "source": [
    "Modify the program which is the solution to Q1 above, such that the printing (a serial number and your name) happen only if the serial number is an integer multiple of 3."
   ]
  },
  {
   "cell_type": "code",
   "execution_count": 7,
   "id": "6038f506",
   "metadata": {},
   "outputs": [
    {
     "name": "stdout",
     "output_type": "stream",
     "text": [
      "3 Priyanshu Mahato\n",
      "6 Priyanshu Mahato\n",
      "9 Priyanshu Mahato\n",
      "12 Priyanshu Mahato\n",
      "15 Priyanshu Mahato\n"
     ]
    }
   ],
   "source": [
    "x = \"Priyanshu Mahato\"\n",
    "for i in range (1,16):\n",
    "    if(i%3==0):\n",
    "        print('%s %s' %(i,x))"
   ]
  },
  {
   "cell_type": "markdown",
   "id": "293e1190",
   "metadata": {},
   "source": [
    "## Question 3:"
   ]
  },
  {
   "cell_type": "markdown",
   "id": "d8b9a167",
   "metadata": {},
   "source": [
    "Write a program which stores the string “abcdefghijkl” in a variable and then prints the following sequence of strings using a for loop:\n",
    "\n",
    "abcdefghijkl\n",
    "\n",
    "bcdefghijkl\n",
    "\n",
    "cdefghijkl\n",
    "\n",
    "defghijkl\n",
    "\n",
    "efghijkl\n",
    "\n",
    "fghijkl\n",
    "\n",
    "ghijkl\n",
    "\n",
    "hijkl\n",
    "\n",
    "ijkl\n",
    "\n",
    "jkl\n",
    "\n",
    "kl\n",
    "\n",
    "l\n",
    "\n"
   ]
  },
  {
   "cell_type": "code",
   "execution_count": 15,
   "id": "4fcb13e4",
   "metadata": {},
   "outputs": [
    {
     "name": "stdout",
     "output_type": "stream",
     "text": [
      "abcdefghijkl\n",
      "bcdefghijkl\n",
      "cdefghijkl\n",
      "defghijkl\n",
      "efghijkl\n",
      "fghijkl\n",
      "ghijkl\n",
      "hijkl\n",
      "ijkl\n",
      "jkl\n",
      "kl\n",
      "l\n"
     ]
    }
   ],
   "source": [
    "x = 'abcdefghijkl'\n",
    "y = list(x)\n",
    "for i in range (0, len(y)):\n",
    "    for j in range (i, len(y)):\n",
    "        print(y[j], end='')\n",
    "    print()    "
   ]
  },
  {
   "cell_type": "markdown",
   "id": "22fca0a1",
   "metadata": {},
   "source": [
    "# Question 4:"
   ]
  },
  {
   "cell_type": "markdown",
   "id": "cb59613e",
   "metadata": {},
   "source": [
    "Write a program which finds the largest item in a given numerical list without using the `max` command. To test your program, use the following lists:\n",
    "\n",
    "[0, 3, 1, 2, 8, 9, 0, 4, 7] and [0, -1, -3, -4, 3, 8, 9, 11, -2]"
   ]
  },
  {
   "cell_type": "code",
   "execution_count": 17,
   "id": "8b223f74",
   "metadata": {},
   "outputs": [
    {
     "name": "stdout",
     "output_type": "stream",
     "text": [
      "Maximum = 9\n",
      "Maximum = 11\n"
     ]
    }
   ],
   "source": [
    "x = [0, 3, 1, 2, 8, 9, 0, 4, 7]\n",
    "y = [0, -1, -3, -4, 3, 8, 9, 11, -2]\n",
    "def maxlist(e):\n",
    "    max=e[0]\n",
    "    for i in range (0,len(e)):\n",
    "        if(e[i]>max):\n",
    "            max=e[i]\n",
    "    print(\"Maximum =\", max)\n",
    "maxlist(x)\n",
    "maxlist(y)"
   ]
  },
  {
   "cell_type": "markdown",
   "id": "87761c23",
   "metadata": {},
   "source": [
    "## Question 5:"
   ]
  },
  {
   "cell_type": "markdown",
   "id": "4c3e39a5",
   "metadata": {},
   "source": [
    "Write a program which finds the largest and the smallest items and their positions in a given list, first *without* using the `max` and `min` commands. Also write the same program using the `max` and `min` commands and verify that both codes give identical results. To test your program, use the following lists: [0, 3, 1, 2, 8, 9, 0, 4, 7] and [0, -1, -3, -4, 3, 8, 9, 11, -2]"
   ]
  },
  {
   "cell_type": "code",
   "execution_count": 21,
   "id": "e5d2b9c4",
   "metadata": {},
   "outputs": [
    {
     "name": "stdout",
     "output_type": "stream",
     "text": [
      "Maximum = 9\n",
      "Position of Maximum = 6\n",
      "Minimum = 0\n",
      "Position of Minimum = 1\n",
      "Maximum = 11\n",
      "Position of Maximum = 8\n",
      "Minimum = -4\n",
      "Position of Minimum = 4\n",
      "Now, using in-built functions:\n",
      "Maximum = 9\n",
      "Position of Maximum = 6\n",
      "Minimum = 0\n",
      "Position of Minimum = 1\n",
      "Maximum = 11\n",
      "Position of Maximum = 8\n",
      "Minimum = -4\n",
      "Position of Minimum = 4\n"
     ]
    }
   ],
   "source": [
    "x = [0, 3, 1, 2, 8, 9, 0, 4, 7]\n",
    "y = [0, -1, -3, -4, 3, 8, 9, 11, -2]\n",
    "def maxlist(e):\n",
    "    max=e[0]\n",
    "    min=e[0]\n",
    "    maxpos=0\n",
    "    minpos=0\n",
    "    for i in range (0,len(e)):\n",
    "        if(e[i]>max):\n",
    "            max=e[i]\n",
    "            maxpos=i\n",
    "        if(e[i]<min):\n",
    "            min=e[i]\n",
    "            minpos=i\n",
    "    print(\"Maximum =\", max)\n",
    "    print(\"Position of Maximum =\", maxpos+1)\n",
    "    print(\"Minimum =\", min)\n",
    "    print(\"Position of Minimum =\", minpos+1)\n",
    "    \n",
    "maxlist(x)\n",
    "maxlist(y)\n",
    "print('Now, using in-built functions:')\n",
    "print(\"Maximum =\", max(x))\n",
    "print(\"Position of Maximum =\", x.index(max(x))+1)\n",
    "print(\"Minimum =\", min(x))\n",
    "print(\"Position of Minimum =\", x.index(min(x))+1)\n",
    "print(\"Maximum =\", max(y))\n",
    "print(\"Position of Maximum =\", y.index(max(y))+1)\n",
    "print(\"Minimum =\", min(y))\n",
    "print(\"Position of Minimum =\", y.index(min(y))+1)"
   ]
  },
  {
   "cell_type": "markdown",
   "id": "bf373fc2",
   "metadata": {},
   "source": [
    "## Question 6:"
   ]
  },
  {
   "cell_type": "markdown",
   "id": "8af602be",
   "metadata": {},
   "source": [
    "Read **name** (e.g. kripa), **year of joining** (e.g. 2020), **course id** (e.g. MS), **student id** (e.g. 1234) and **generate the IISER email id** in the format `name-lastTwoDigitsOfYearOfJoining-courseId-studentId@iiserkol.ac.in`. You must first store these fields (e.g. name) in a list and use `join` operation to convert the list to a string from which the email id will be generated."
   ]
  },
  {
   "cell_type": "code",
   "execution_count": 25,
   "id": "bc990de5",
   "metadata": {},
   "outputs": [
    {
     "name": "stdout",
     "output_type": "stream",
     "text": [
      "Enter your name: Priyanshu\n",
      "Enter your year of joining: 2021\n",
      "Enter Student ID: pm21\n",
      "Enter Course ID: ms\n",
      "priyanshu-21-ms-pm21@iiserkol.ac.in\n"
     ]
    }
   ],
   "source": [
    "name = input(\"Enter your name: \")\n",
    "yoj = input(\"Enter your year of joining: \")\n",
    "SID = input(\"Enter Student ID: \")\n",
    "CID = input(\"Enter Course ID: \")\n",
    "info = [name.strip().lower(), yoj[len(yoj)-2:len(yoj)], CID, SID]\n",
    "print('-'.join(info), '@iiserkol.ac.in', sep='')"
   ]
  },
  {
   "cell_type": "markdown",
   "id": "e7b1b5a6",
   "metadata": {},
   "source": [
    "## Question 7:"
   ]
  },
  {
   "cell_type": "markdown",
   "id": "49de19e5",
   "metadata": {},
   "source": [
    "Consider three strings str1 = '123', str2 = '234' and str3 = '456' and print the sum, product and average of the numbers in the strings."
   ]
  },
  {
   "cell_type": "code",
   "execution_count": 31,
   "id": "27c5d215",
   "metadata": {},
   "outputs": [
    {
     "name": "stdout",
     "output_type": "stream",
     "text": [
      "813\n",
      "13124592\n",
      "271.0\n"
     ]
    }
   ],
   "source": [
    "str1 = '123'\n",
    "str2 = '234'\n",
    "str3 = '456'\n",
    "print(int(str1)+int(str2)+int(str3))\n",
    "print(int(str1)*int(str2)*int(str3))\n",
    "print((int(str1)+int(str2)+int(str3))/3)"
   ]
  },
  {
   "cell_type": "markdown",
   "id": "a174d75e",
   "metadata": {},
   "source": [
    "## Question 8:"
   ]
  },
  {
   "cell_type": "markdown",
   "id": "cdf44844",
   "metadata": {},
   "source": [
    "Input five numbers using a for loop and print the sum of these numbers."
   ]
  },
  {
   "cell_type": "code",
   "execution_count": 34,
   "id": "f98f6e50",
   "metadata": {},
   "outputs": [
    {
     "name": "stdout",
     "output_type": "stream",
     "text": [
      "Enter a number: 1\n",
      "Enter a number: 2\n",
      "Enter a number: 3\n",
      "Enter a number: 4\n",
      "Enter a number: 5\n",
      "Sum = 15\n"
     ]
    }
   ],
   "source": [
    "sum = 0\n",
    "for i in range (0,5):\n",
    "    x = int(input(\"Enter a number: \"))\n",
    "    sum = sum + x\n",
    "print('Sum =', sum)"
   ]
  },
  {
   "cell_type": "markdown",
   "id": "bcf74d7c",
   "metadata": {},
   "source": [
    "## Question 9:"
   ]
  },
  {
   "cell_type": "markdown",
   "id": "edd16675",
   "metadata": {},
   "source": [
    "a) Take the marks of 10 students in a subject as input from the user and store them in a list.\n",
    "\n",
    "b) Sort the marks in descending order.\n",
    "\n",
    "c) Give a grace mark of 5 to those marks which are less than 45.\n",
    "\n",
    "d) Considering 50 as the pass marks, count the number of cases with failing marks."
   ]
  },
  {
   "cell_type": "code",
   "execution_count": 42,
   "id": "10060d5f",
   "metadata": {},
   "outputs": [
    {
     "name": "stdout",
     "output_type": "stream",
     "text": [
      "Enter your marks: 50\n",
      "Enter your marks: 30\n",
      "Enter your marks: 44\n",
      "Enter your marks: 32\n",
      "Enter your marks: 67\n",
      "Enter your marks: 100\n",
      "Enter your marks: 48\n",
      "Enter your marks: 56\n",
      "Enter your marks: 78\n",
      "Enter your marks: 20\n",
      "[50, 30, 44, 32, 67, 100, 48, 56, 78, 20]\n"
     ]
    }
   ],
   "source": [
    "# a\n",
    "marks = []\n",
    "for i in range (0,10):\n",
    "    x = int(input(\"Enter your marks: \"))\n",
    "    marks.append(x)\n",
    "print(marks)"
   ]
  },
  {
   "cell_type": "code",
   "execution_count": 43,
   "id": "e80c5fc2",
   "metadata": {},
   "outputs": [
    {
     "name": "stdout",
     "output_type": "stream",
     "text": [
      "The marks after sorting in descending order:  [100, 78, 67, 56, 50, 48, 44, 32, 30, 20]\n"
     ]
    }
   ],
   "source": [
    "# b\n",
    "marks.sort(reverse=True)\n",
    "print(\"The marks after sorting in descending order: \", marks)"
   ]
  },
  {
   "cell_type": "code",
   "execution_count": 44,
   "id": "d45027e0",
   "metadata": {},
   "outputs": [
    {
     "name": "stdout",
     "output_type": "stream",
     "text": [
      "After adding grace marks:  [100, 78, 67, 56, 50, 48, 49, 37, 35, 25]\n"
     ]
    }
   ],
   "source": [
    "# c\n",
    "for i in range (0,10):\n",
    "    if marks[i]<45 :\n",
    "        marks[i] = marks[i] + 5\n",
    "print(\"After adding grace marks: \", marks)"
   ]
  },
  {
   "cell_type": "code",
   "execution_count": 45,
   "id": "d05aed9a",
   "metadata": {},
   "outputs": [
    {
     "name": "stdout",
     "output_type": "stream",
     "text": [
      "No. of failing cases:  5\n"
     ]
    }
   ],
   "source": [
    "# d:\n",
    "c = 0\n",
    "for i in range (0,10):\n",
    "    if marks[i]<50:\n",
    "        c+=1\n",
    "print(\"No. of failing cases: \", c)"
   ]
  },
  {
   "cell_type": "markdown",
   "id": "54e7fdff",
   "metadata": {},
   "source": [
    "## Question 10:"
   ]
  },
  {
   "cell_type": "markdown",
   "id": "137ef9ce",
   "metadata": {},
   "source": [
    "Take 10 integer numbers from users as input and store them in a list of numbers.\n",
    "\n",
    "a) Print the entire list.\n",
    "\n",
    "b) Sort the list and print.\n",
    "\n",
    "c) Remove the maximum and minimum value from the list and then print the updated list."
   ]
  },
  {
   "cell_type": "code",
   "execution_count": 49,
   "id": "c1cc2819",
   "metadata": {},
   "outputs": [
    {
     "name": "stdout",
     "output_type": "stream",
     "text": [
      "Enter an integer: 45\n",
      "Enter an integer: 8\n",
      "Enter an integer: 26\n",
      "Enter an integer: 2\n",
      "Enter an integer: 063\n",
      "Enter an integer: 98\n",
      "Enter an integer: 4\n",
      "Enter an integer: 87\n",
      "Enter an integer: 12\n",
      "Enter an integer: 52\n",
      "[45, 8, 26, 2, 63, 98, 4, 87, 12, 52]\n"
     ]
    }
   ],
   "source": [
    "# a\n",
    "l = []\n",
    "for i in range (0,10):\n",
    "    x = int(input(\"Enter an integer: \"))\n",
    "    l.append(x)\n",
    "print(l)"
   ]
  },
  {
   "cell_type": "code",
   "execution_count": 50,
   "id": "88f6ff6f",
   "metadata": {},
   "outputs": [
    {
     "name": "stdout",
     "output_type": "stream",
     "text": [
      "[2, 4, 8, 12, 26, 45, 52, 63, 87, 98]\n"
     ]
    }
   ],
   "source": [
    "# b\n",
    "l.sort()\n",
    "print(l)"
   ]
  },
  {
   "cell_type": "code",
   "execution_count": 51,
   "id": "208c52db",
   "metadata": {},
   "outputs": [
    {
     "name": "stdout",
     "output_type": "stream",
     "text": [
      "[4, 8, 12, 26, 45, 52, 63, 87]\n"
     ]
    }
   ],
   "source": [
    "l.remove(max(l))\n",
    "l.remove(min(l))\n",
    "print(l)"
   ]
  },
  {
   "cell_type": "markdown",
   "id": "4f67fff1",
   "metadata": {},
   "source": [
    "# Challenge Questions"
   ]
  },
  {
   "cell_type": "markdown",
   "id": "28a3f419",
   "metadata": {},
   "source": [
    "## Question 1:"
   ]
  },
  {
   "cell_type": "markdown",
   "id": "0678cb7c",
   "metadata": {},
   "source": [
    "Input your IISER email in format name-rollno@iiserkol.ac.in, extract the name, roll no \n",
    "using split() and print them."
   ]
  },
  {
   "cell_type": "code",
   "execution_count": 57,
   "id": "5afbff5c",
   "metadata": {},
   "outputs": [
    {
     "name": "stdout",
     "output_type": "stream",
     "text": [
      "Enter IISER email ID: priyanshu-pm21ms002@iiserkol.ac.in\n",
      "Name:  Priyanshu\n",
      "Roll No.:  pm21ms002\n"
     ]
    }
   ],
   "source": [
    "x = input(\"Enter IISER email ID: \")\n",
    "x = x.replace('@iiserkol.ac.in', '')\n",
    "y = x.split('-')\n",
    "print(\"Name: \", y[0].title())\n",
    "print(\"Roll No.: \", y[1])"
   ]
  },
  {
   "cell_type": "markdown",
   "id": "c055757e",
   "metadata": {},
   "source": [
    "## Question 2:"
   ]
  },
  {
   "cell_type": "markdown",
   "id": "4a743625",
   "metadata": {},
   "source": [
    "Take your full name as input and make an abbreviation of your name based on the initials of the names."
   ]
  },
  {
   "cell_type": "code",
   "execution_count": 60,
   "id": "b2dcf7d5",
   "metadata": {},
   "outputs": [
    {
     "name": "stdout",
     "output_type": "stream",
     "text": [
      "Enter your name: Priyanshu Mahato\n",
      "Abbreviation of name: P.M.\n"
     ]
    }
   ],
   "source": [
    "name = input(\"Enter your name: \")\n",
    "name.strip()\n",
    "namelist = list(name)\n",
    "print(\"Abbreviation of name: %s.%s.\" %(namelist[0], namelist[namelist.index(' ')+1]))"
   ]
  },
  {
   "cell_type": "code",
   "execution_count": null,
   "id": "55ad3df4",
   "metadata": {},
   "outputs": [],
   "source": []
  }
 ],
 "metadata": {
  "kernelspec": {
   "display_name": "Python 3 (ipykernel)",
   "language": "python",
   "name": "python3"
  },
  "language_info": {
   "codemirror_mode": {
    "name": "ipython",
    "version": 3
   },
   "file_extension": ".py",
   "mimetype": "text/x-python",
   "name": "python",
   "nbconvert_exporter": "python",
   "pygments_lexer": "ipython3",
   "version": "3.9.7"
  }
 },
 "nbformat": 4,
 "nbformat_minor": 5
}
