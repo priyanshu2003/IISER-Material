{
 "cells": [
  {
   "cell_type": "markdown",
   "id": "a16f58c0",
   "metadata": {},
   "source": [
    "# CS1101 Assignment - 08"
   ]
  },
  {
   "cell_type": "markdown",
   "id": "5859dcb7",
   "metadata": {},
   "source": [
    "## Question 1:"
   ]
  },
  {
   "cell_type": "markdown",
   "id": "c093b31d",
   "metadata": {},
   "source": [
    "An RNA sequence is formed by the nucleotides ’A’, ’C’, ’G’, and ’U’. A triplet of nucleotides in such a sequence is called a codon and a protein coding gene is characterized by a start codon and a stop codon. Write a program that takes an RNA string as input and prints the codons present in the sequence. For example, for the sequence given below\n",
    "\n",
    "Input: AUGGGAACUUCACUACGUAAAUAG\n",
    "\n",
    "Output: Codons are: AUG, GGA, ACU, UCA, CUA, CGU, AAA, UAG\n",
    "\n",
    "Determine the frequency (No. of times a codon appears/Total no. of codons in the sequence) of each of the 64 codons in the input sequence."
   ]
  },
  {
   "cell_type": "code",
   "execution_count": 1,
   "id": "bd1ae719",
   "metadata": {},
   "outputs": [
    {
     "name": "stdout",
     "output_type": "stream",
     "text": [
      "Enter an RNA sequence: AUGGGAACUUCACUACGUAAAUAGAUGACUCUACUAAAA\n",
      "Codons are:  ['AUG', 'GGA', 'ACU', 'UCA', 'CUA', 'CGU', 'AAA', 'UAG', 'AUG', 'ACU', 'CUA', 'CUA', 'AAA']\n",
      "Frequency of each codon:  {'AUG': 2, 'GGA': 1, 'ACU': 2, 'UCA': 1, 'CUA': 3, 'CGU': 1, 'AAA': 2, 'UAG': 1}\n"
     ]
    }
   ],
   "source": [
    "rna = input('Enter an RNA sequence: ')\n",
    "rna_list = []\n",
    "while (len(rna) % 3 != 0):\n",
    "    rna = rna[:len(rna) - 1]\n",
    "for i in range(0, len(rna), 3):\n",
    "    rna_list.append(rna[i:i + 3])\n",
    "print('Codons are: ', rna_list)\n",
    "\n",
    "rna_freq = [rna_list.count(codon) for codon in rna_list]\n",
    "print('Frequency of each codon: ', dict(zip(rna_list, rna_freq)))"
   ]
  },
  {
   "cell_type": "markdown",
   "id": "4a846151",
   "metadata": {},
   "source": [
    "## Question 2:"
   ]
  },
  {
   "cell_type": "markdown",
   "id": "fdf446ac",
   "metadata": {},
   "source": [
    "Given a genetic code (see image below), i.e., a mapping between codons and amino acids, a coding sequence like the RNA sequence given above can be translated into an amino acid sequence. Using a dictionary like the one specified in slide 76 of the updated lecture slides, convert a protein coding mRNA sequence input by the user into an amino acid sequence.\n",
    "\n",
    "<img src='Stop Codon.png' width=\"700\" height=\"700\">\n",
    "\n",
    "Note that the last codon in an mRNA sequence is either UAA or UAG or UGA which are stop codons that are not translated into an amino acid. As in the above example, when such a codon is encountered, translation should be terminated. \n",
    "\n",
    "You can use the following 1-letter code for amino acids to specify the values associated with the keys (which are codons) in your dictionary.\n",
    "\n",
    "<img src='Code.png' width=\"200\" height=\"300\">\n",
    "\n",
    "Input mRNA sequence: AUGGGAACUUCACUACGUAAAUAG\n",
    "\n",
    "Output: MGTSLRK \n",
    "\n",
    "(where M,G,…..,K are amino acids associated with codons AUG, GGA,…,AAA)"
   ]
  },
  {
   "cell_type": "markdown",
   "id": "c6a1330f",
   "metadata": {},
   "source": []
  }
 ],
 "metadata": {
  "kernelspec": {
   "display_name": "Python 3 (ipykernel)",
   "language": "python",
   "name": "python3"
  },
  "language_info": {
   "codemirror_mode": {
    "name": "ipython",
    "version": 3
   },
   "file_extension": ".py",
   "mimetype": "text/x-python",
   "name": "python",
   "nbconvert_exporter": "python",
   "pygments_lexer": "ipython3",
   "version": "3.10.2"
  },
  "notify_time": "10"
 },
 "nbformat": 4,
 "nbformat_minor": 5
}
