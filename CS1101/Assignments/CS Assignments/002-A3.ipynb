{
 "cells": [
  {
   "cell_type": "markdown",
   "id": "66161b98",
   "metadata": {},
   "source": [
    "# CS1101 Assignment - 3"
   ]
  },
  {
   "cell_type": "markdown",
   "id": "c875fcad",
   "metadata": {},
   "source": [
    "## Question 1: "
   ]
  },
  {
   "cell_type": "markdown",
   "id": "817fba44",
   "metadata": {},
   "source": [
    "Write a python code that calculates the following sums in a single loop,\n",
    "$$ \\sum_{i=1}^{n} i^{2}\\ and\\ \\sum_{i=1}^{n} i^{3}$$\n",
    "Also calculate the expected answers by using the following:\n",
    "$$\\sum_{i=1}^{n} i^{2} = \\dfrac{1}{6} n (n+1) (2n+1)\\ and\\ \\sum_{i=1}^{n} i^{3} = \\dfrac{1}{4} n^{2} (n+1)^{2}$$\n"
   ]
  },
  {
   "cell_type": "code",
   "execution_count": 5,
   "id": "000bd24d",
   "metadata": {},
   "outputs": [
    {
     "name": "stdout",
     "output_type": "stream",
     "text": [
      "Enter a limit: 10\n",
      "First sum = 385\n",
      "Second Sum = 3025\n",
      "For the first sum, are the results of the loop and formula the same?\n",
      "Answer: True\n",
      "For the second sum, are the results of the loop and formula the same?\n",
      "Answer: True\n"
     ]
    }
   ],
   "source": [
    "n = int(input(\"Enter a limit: \"))\n",
    "sum1 = 0\n",
    "sum2 = 0\n",
    "for i in range (1,n+1):\n",
    "    sum1 = sum1 + i**2\n",
    "    sum2 = sum2 + i**3\n",
    "sum1f = (1/6) * (n) * (n+1) * (2*n + 1) \n",
    "sum2f = (1/4) * (n**2) * ((n+1)**2)\n",
    "print (\"First sum = %s\" %(sum1))\n",
    "print (\"Second Sum = %s\" %(sum2))\n",
    "print (\"For the first sum, are the results of the loop and formula the same?\")\n",
    "print(\"Answer: %s\" %(sum1 == sum1f))\n",
    "print (\"For the second sum, are the results of the loop and formula the same?\")\n",
    "print(\"Answer: %s\" %(sum2 == sum2f))"
   ]
  },
  {
   "cell_type": "markdown",
   "id": "72456d28",
   "metadata": {},
   "source": [
    "## Question 2:"
   ]
  },
  {
   "cell_type": "markdown",
   "id": "83eff971",
   "metadata": {},
   "source": [
    " Create a list of numbers having following pattern: $[1, 0, 3, 0, 5, 0, 7, 0, 9, \\dots]$"
   ]
  },
  {
   "cell_type": "code",
   "execution_count": 7,
   "id": "2b776ee1",
   "metadata": {},
   "outputs": [
    {
     "name": "stdout",
     "output_type": "stream",
     "text": [
      "Enter a limit: 10\n",
      "[1, 0, 3, 0, 5, 0, 7, 0, 9, 0]\n"
     ]
    }
   ],
   "source": [
    "n = int(input(\"Enter a limit: \"))\n",
    "list = []\n",
    "for i in range (1, (n+1), 2):\n",
    "    list.append(i)\n",
    "    list.append(0)\n",
    "print (list)"
   ]
  },
  {
   "cell_type": "markdown",
   "id": "a84c16ba",
   "metadata": {},
   "source": [
    "## Question 3:"
   ]
  },
  {
   "cell_type": "markdown",
   "id": "dfae8b90",
   "metadata": {},
   "source": [
    "Create a list of integers where nth item of the list is given by: $S_n = \\sum_{i=1}^{n} i^{2} $"
   ]
  },
  {
   "cell_type": "code",
   "execution_count": 11,
   "id": "40bf670e",
   "metadata": {},
   "outputs": [
    {
     "name": "stdout",
     "output_type": "stream",
     "text": [
      "Enter a limit: 5\n",
      "[1, 5, 14, 30, 55]\n"
     ]
    }
   ],
   "source": [
    "n = int(input(\"Enter a limit: \"))\n",
    "list = []\n",
    "sum = 0\n",
    "for i in range (1, (n+1)):\n",
    "    sum = 0\n",
    "    for j in range (1, i+1):\n",
    "        sum = sum + j**2\n",
    "    list.append(sum)\n",
    "print(list)"
   ]
  },
  {
   "cell_type": "markdown",
   "id": "9cb329fa",
   "metadata": {},
   "source": [
    "## Question 4:"
   ]
  },
  {
   "cell_type": "markdown",
   "id": "2f22b317",
   "metadata": {},
   "source": [
    "Calculate (using for loop) the value of : \n",
    "$$1 + \\dfrac{n}{1 + \\dfrac{n-1}{1 + \\dfrac{n-2}{1 + \\dfrac{\\dots}{1 + \\dfrac{2}{1 + \\dfrac{1}{1}}}}}}$$"
   ]
  },
  {
   "cell_type": "code",
   "execution_count": 24,
   "id": "13dd25b1",
   "metadata": {},
   "outputs": [
    {
     "name": "stdout",
     "output_type": "stream",
     "text": [
      "Enter a limit: 10\n",
      "3.7590564448188712\n"
     ]
    }
   ],
   "source": [
    "n = int(input(\"Enter a limit: \"))\n",
    "sum = 1\n",
    "for i in range (1, (n+1)):\n",
    "    frac = i/sum\n",
    "    sum = 1 + frac\n",
    "print(sum)"
   ]
  },
  {
   "cell_type": "markdown",
   "id": "96662b0b",
   "metadata": {},
   "source": [
    "## Question 5:"
   ]
  },
  {
   "cell_type": "markdown",
   "id": "70005c96",
   "metadata": {},
   "source": [
    "Write a program which prints the elements of a Fibonacci series $1, 1, 2, 3,5, 8, 13, \\dots$, where each element is the sum of the two previous elements (the first two numbers are defined to be 1). "
   ]
  },
  {
   "cell_type": "code",
   "execution_count": 19,
   "id": "2c60797d",
   "metadata": {},
   "outputs": [
    {
     "name": "stdout",
     "output_type": "stream",
     "text": [
      "Enter limit: 20\n",
      "[1, 1, 2, 3, 5, 8, 13, 21, 34, 55, 89, 144, 233, 377, 610, 987, 1597, 2584, 4181]\n"
     ]
    }
   ],
   "source": [
    "def fibonacci(num):\n",
    "    num1 = 0\n",
    "    num2 = 1\n",
    "    fib = 0\n",
    "    list = []\n",
    "    for i in range(num):\n",
    "        list.append(fib)\n",
    "        num1 = num2\n",
    "        num2 = fib\n",
    "        fib = num1 + num2\n",
    "    return (list)\n",
    "num = int(input('Enter limit: '))\n",
    "list1 = fibonacci(num)\n",
    "list1.remove(list1[0])\n",
    "print(list1)"
   ]
  },
  {
   "cell_type": "markdown",
   "id": "0f721614",
   "metadata": {},
   "source": [
    "## Question 6:"
   ]
  },
  {
   "cell_type": "markdown",
   "id": "53a5ab26",
   "metadata": {},
   "source": [
    "Write a program that will compute the square root of a given number. If the input is a negative number, the program should print an error message that invalid input is provided and continue to take the inputs until a valid (positive) input is provided. "
   ]
  },
  {
   "cell_type": "code",
   "execution_count": 25,
   "id": "6798f6c4",
   "metadata": {},
   "outputs": [
    {
     "name": "stdout",
     "output_type": "stream",
     "text": [
      "Enter a number-5\n",
      "Invalid Input. Try Again!\n",
      "Enter a number-2\n",
      "Invalid Input. Try Again!\n",
      "Enter a number-10\n",
      "Invalid Input. Try Again!\n",
      "Enter a number12\n",
      "Square Root = 3.4641016151377544\n"
     ]
    }
   ],
   "source": [
    "while(True):\n",
    "    x = int(input('Enter a number'))\n",
    "    if(x<0):\n",
    "        print('Invalid Input. Try Again!')\n",
    "    if(x>0):\n",
    "        print(\"Square Root =\", x**0.5)\n",
    "        break"
   ]
  },
  {
   "cell_type": "markdown",
   "id": "122c3654",
   "metadata": {},
   "source": [
    "## Question 7:"
   ]
  },
  {
   "cell_type": "markdown",
   "id": "fcf08966",
   "metadata": {},
   "source": [
    "### 7.1"
   ]
  },
  {
   "cell_type": "markdown",
   "id": "19edf0b4",
   "metadata": {},
   "source": [
    "Take the name and age of a student as input and store them in a tuple. "
   ]
  },
  {
   "cell_type": "code",
   "execution_count": 26,
   "id": "f4d38237",
   "metadata": {},
   "outputs": [
    {
     "name": "stdout",
     "output_type": "stream",
     "text": [
      "Enter namePriyanshu Mahato\n",
      "Enter age18\n",
      "('Priyanshu Mahato', '18')\n"
     ]
    }
   ],
   "source": [
    "name = input('Enter name')\n",
    "age = input('Enter age')\n",
    "x = (name, age)\n",
    "print(x)"
   ]
  },
  {
   "cell_type": "markdown",
   "id": "228ff040",
   "metadata": {},
   "source": [
    "### 7.2"
   ]
  },
  {
   "cell_type": "markdown",
   "id": "875e9799",
   "metadata": {},
   "source": [
    "Take the same information (name and age) of 10 students and make a list of tuples."
   ]
  },
  {
   "cell_type": "code",
   "execution_count": 28,
   "id": "9a5ffd7f",
   "metadata": {},
   "outputs": [
    {
     "name": "stdout",
     "output_type": "stream",
     "text": [
      "Enter name: Priyanshu\n",
      "Enter age: 18\n",
      "Enter name: Ayush\n",
      "Enter age: 20\n",
      "Enter name: Krishna\n",
      "Enter age: 15\n",
      "Enter name: Sumit\n",
      "Enter age: 10\n",
      "Enter name: Ganga\n",
      "Enter age: 34\n",
      "Enter name: Nitin\n",
      "Enter age: 23\n",
      "Enter name: Mike\n",
      "Enter age: 1\n",
      "Enter name: Philip\n",
      "Enter age: 21\n",
      "Enter name: Renuka\n",
      "Enter age: 43\n",
      "Enter name: Shilpa\n",
      "Enter age: 89\n",
      "[('Priyanshu', '18'), ('Ayush', '20'), ('Krishna', '15'), ('Sumit', '10'), ('Ganga', '34'), ('Nitin', '23'), ('Mike', '1'), ('Philip', '21'), ('Renuka', '43'), ('Shilpa', '89')]\n"
     ]
    }
   ],
   "source": [
    "list = []\n",
    "for i in range (0,10):\n",
    "    name = input('Enter name: ')\n",
    "    age = input('Enter age: ')\n",
    "    x = (name, age)\n",
    "    list.append(x)\n",
    "print(list)"
   ]
  },
  {
   "cell_type": "markdown",
   "id": "b1c87748",
   "metadata": {},
   "source": [
    "### 7.3"
   ]
  },
  {
   "cell_type": "markdown",
   "id": "12de0b46",
   "metadata": {},
   "source": [
    "Take a name from the user as input and output the corresponding age."
   ]
  },
  {
   "cell_type": "code",
   "execution_count": 2,
   "id": "9b33866f",
   "metadata": {},
   "outputs": [
    {
     "name": "stdout",
     "output_type": "stream",
     "text": [
      "Enter name: x\n",
      "Enter age: 21\n",
      "Enter name: y\n",
      "Enter age: 65\n",
      "Enter name: z\n",
      "Enter age: 23\n",
      "Enter name: c\n",
      "Enter age: 43\n",
      "Enter name: x\n",
      "Enter age: 32\n",
      "Enter name: v\n",
      "Enter age: 65\n",
      "Enter name: g\n",
      "Enter age: 98\n",
      "Enter name: e\n",
      "Enter age: 43\n",
      "Enter name: x\n",
      "Enter age: 87\n",
      "Enter name: w\n",
      "Enter age: 21\n",
      "Enter the name you want to search: x\n",
      "Age: 21\n",
      "Age: 32\n",
      "Age: 87\n"
     ]
    }
   ],
   "source": [
    "list = []\n",
    "\n",
    "for i in range (0,10):\n",
    "    name = input('Enter name: ')\n",
    "    age = input('Enter age: ')\n",
    "    x = (name, age)\n",
    "    list.append(x)\n",
    "    \n",
    "def search(List, n):\n",
    "    for i in range (0, len(List)):\n",
    "        for j in range (0, len(List[i])):\n",
    "            if (List[i][j]==n):\n",
    "                print('Age: %s' %(List[i][j+1]))\n",
    "    \n",
    "name1 = input('Enter the name you want to search: ')\n",
    "search(list, name1)"
   ]
  },
  {
   "cell_type": "markdown",
   "id": "c53d4af2",
   "metadata": {},
   "source": [
    "## Question 8:"
   ]
  },
  {
   "cell_type": "markdown",
   "id": "a02b04c2",
   "metadata": {},
   "source": [
    "Write a program to find the digits which are absent in a given mobile number. "
   ]
  },
  {
   "cell_type": "code",
   "execution_count": 40,
   "id": "6c8c16ef",
   "metadata": {},
   "outputs": [
    {
     "name": "stdout",
     "output_type": "stream",
     "text": [
      "Enter a mobile number: 9234753957\n",
      "0 is absent\n",
      "1 is absent\n",
      "6 is absent\n",
      "8 is absent\n"
     ]
    }
   ],
   "source": [
    "x = str(input('Enter a mobile number: '))\n",
    "del list\n",
    "char = list(x)\n",
    "zero=0\n",
    "one=0\n",
    "two=0\n",
    "three=0\n",
    "four=0\n",
    "five=0\n",
    "six=0\n",
    "seven=0\n",
    "eight=0\n",
    "nine=0\n",
    "for i in range (0, len(char)):\n",
    "    if(char[i]=='0'):\n",
    "        zero+=1\n",
    "    if(char[i]=='1'):\n",
    "        one+=1\n",
    "    if(char[i]=='2'):\n",
    "        two+=1\n",
    "    if(char[i]=='3'):\n",
    "        three+=1\n",
    "    if(char[i]=='4'):\n",
    "        four+=1\n",
    "    if(char[i]=='5'):\n",
    "        five+=1\n",
    "    if(char[i]=='6'):\n",
    "        six+=1\n",
    "    if(char[i]=='7'):\n",
    "        seven+=1\n",
    "    if(char[i]=='8'):\n",
    "        eight+=1\n",
    "    if(char[i]=='9'):\n",
    "        nine+=1\n",
    "if (zero==0):\n",
    "    print('0 is absent')\n",
    "if (one==0):\n",
    "    print('1 is absent')\n",
    "if (two==0):\n",
    "    print('2 is absent')\n",
    "if (three==0):\n",
    "    print('3 is absent')\n",
    "if (four==0):\n",
    "    print('4 is absent')\n",
    "if (five==0):\n",
    "    print('5 is absent')\n",
    "if (six==0):\n",
    "    print('6 is absent')\n",
    "if (seven==0):\n",
    "    print('7 is absent')\n",
    "if (eight==0):\n",
    "    print('8 is absent')\n",
    "if (nine==0):\n",
    "    print('9 is absent')"
   ]
  },
  {
   "cell_type": "markdown",
   "id": "be644091",
   "metadata": {},
   "source": [
    "## Question 9:"
   ]
  },
  {
   "cell_type": "markdown",
   "id": "5c0c3f21",
   "metadata": {},
   "source": [
    "Consider a list (rollnos) containing roll numbers of 20MS students in the format 20MSid (e.g. 20MS145, here id = 145). Use list comprehension to store the rollnos in a list 'GroupA' where id < 150 and store the rest in another list 'GroupB'. Print the contents of GroupA and GroupB."
   ]
  },
  {
   "cell_type": "code",
   "execution_count": 8,
   "id": "56a8bb0f",
   "metadata": {},
   "outputs": [
    {
     "name": "stdout",
     "output_type": "stream",
     "text": [
      "Enter no. of students: 5\n",
      "Enter Roll No.: 21MS002\n",
      "Enter Roll No.: 21MS230\n",
      "Enter Roll No.: 21MS340\n",
      "Enter Roll No.: 21MS210\n",
      "Enter Roll No.: 21MS150\n",
      "['21MS002']\n",
      "['21MS230', '21MS340', '21MS210', '21MS150']\n"
     ]
    }
   ],
   "source": [
    "input_list = []\n",
    "GroupA = []\n",
    "GroupB = []\n",
    "n = int(input('Enter no. of students: '))\n",
    "for i in range (0, n):\n",
    "    roll = input('Enter Roll No.: ')\n",
    "    input_list.append(roll)\n",
    "GroupA = [i for i in input_list if int(i[4]+i[5]+i[6])<150]\n",
    "GroupB = [i for i in input_list if int(i[4]+i[5]+i[6])>=150]\n",
    "\n",
    "print(GroupA)\n",
    "print(GroupB)"
   ]
  },
  {
   "cell_type": "markdown",
   "id": "34f31e39",
   "metadata": {},
   "source": [
    "## Question 10:"
   ]
  },
  {
   "cell_type": "markdown",
   "id": "27608ca2",
   "metadata": {},
   "source": [
    "Given the temperatures in Farenheit in a list 'farenheit', store the celsius equivalents in another list 'celsius' using list comprehension. You can choose the temperatures in the list farenheit. Take the length of the list to be 5. I am using the formula, $$^{\\circ}C =\\ (^{\\circ}F-32) \\times \\dfrac{5}{9}$$"
   ]
  },
  {
   "cell_type": "code",
   "execution_count": 3,
   "id": "6ae6992d",
   "metadata": {},
   "outputs": [
    {
     "name": "stdout",
     "output_type": "stream",
     "text": [
      "Enter Farenheit Temperature: 10\n",
      "Enter Farenheit Temperature: 20\n",
      "Enter Farenheit Temperature: 30\n",
      "Enter Farenheit Temperature: 40\n",
      "Enter Farenheit Temperature: 50\n",
      "The Celsius equivalents are:-\n",
      "[-12.222222222222223, -6.666666666666667, -1.1111111111111112, 4.444444444444445, 10.0]\n"
     ]
    }
   ],
   "source": [
    "farenheit = [0, 0, 0, 0, 0]\n",
    "celsius = [0, 0, 0, 0, 0]\n",
    "for i in range (0,5):\n",
    "    x = float(input('Enter Farenheit Temperature: '))\n",
    "    farenheit[i] = x\n",
    "celsius = [(i-32)*(5/9) for i in farenheit]\n",
    "print('The Celsius equivalents are:-')\n",
    "print(celsius)"
   ]
  },
  {
   "cell_type": "markdown",
   "id": "b09275dc",
   "metadata": {},
   "source": [
    "## Question 11:"
   ]
  },
  {
   "cell_type": "markdown",
   "id": "fed958d1",
   "metadata": {},
   "source": [
    "Store the marks of five courses CS1101, CH2201, CS3201, CS3202 and LS2201 in a tuple `marks`. Update `marks` by adding grace marks of 5 for the marks less than 50. "
   ]
  },
  {
   "cell_type": "code",
   "execution_count": 56,
   "id": "16f1b4c8",
   "metadata": {},
   "outputs": [
    {
     "name": "stdout",
     "output_type": "stream",
     "text": [
      "Enter marks obtained in CS1101: 10\n",
      "Enter marks obtained in CS2201: 20\n",
      "Enter marks obtained in CS3201: 30\n",
      "Enter marks obtained in CS3202: 60\n",
      "Enter marks obtained in LS2201: 70\n",
      "(10, 20, 30, 60, 70)\n",
      "After adding the grace marks, the marks look like this:-\n",
      "(15, 25, 35, 60, 70)\n"
     ]
    }
   ],
   "source": [
    "markslist = list(marks)\n",
    "markslist[0] = int(input('Enter marks obtained in CS1101: '))\n",
    "markslist[1] = int(input('Enter marks obtained in CS2201: '))\n",
    "markslist[2] = int(input('Enter marks obtained in CS3201: '))\n",
    "markslist[3] = int(input('Enter marks obtained in CS3202: '))\n",
    "markslist[4] = int(input('Enter marks obtained in LS2201: '))\n",
    "marks= tuple(markslist)\n",
    "print(marks)\n",
    "for i in range(0, 5):\n",
    "    if (markslist[i]<50):\n",
    "        markslist[i] = markslist[i] + 5\n",
    "marks = tuple(markslist)\n",
    "print('After adding the grace marks, the marks look like this:-')\n",
    "print(marks)"
   ]
  },
  {
   "cell_type": "markdown",
   "id": "d861674d",
   "metadata": {},
   "source": []
  }
 ],
 "metadata": {
  "kernelspec": {
   "display_name": "Python 3 (ipykernel)",
   "language": "python",
   "name": "python3"
  },
  "language_info": {
   "codemirror_mode": {
    "name": "ipython",
    "version": 3
   },
   "file_extension": ".py",
   "mimetype": "text/x-python",
   "name": "python",
   "nbconvert_exporter": "python",
   "pygments_lexer": "ipython3",
   "version": "3.9.7"
  }
 },
 "nbformat": 4,
 "nbformat_minor": 5
}
