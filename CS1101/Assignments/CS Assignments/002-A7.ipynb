{
 "cells": [
  {
   "cell_type": "code",
   "execution_count": null,
   "id": "c813ae7f",
   "metadata": {},
   "outputs": [],
   "source": [
    "#Q1\n",
    "operation=1\n",
    "while operation in [1,2,3,4]:\n",
    "    print('*******Calculator*******','\\n','1 - Addition','\\n','2 - Subtraction','\\n','3 - Multiplication','\\n','4 - Division','\\n','Any other number to exit')\n",
    "    operation=int(input('Enter your choice:'))\n",
    "    if operation in [1,2,3,4]:\n",
    "        print('Enter the two operands:')\n",
    "        a=float(input('Enter 1st operand:'))\n",
    "        b=float(input('Enter 2nd operand:'))\n",
    "        if operation==1: print('Result=',a+b)\n",
    "        if operation==2: print('Result=',a-b)\n",
    "        if operation==3: print('Result=',a*b)\n",
    "        if operation==4: print('Result=',a/b)\n",
    "    else: print('Exiting')"
   ]
  },
  {
   "cell_type": "code",
   "execution_count": 10,
   "id": "d05408bb",
   "metadata": {},
   "outputs": [
    {
     "name": "stdout",
     "output_type": "stream",
     "text": [
      "Enter point 1 coordinates (space separated):2 2\n",
      "Enter point 2 coordinates (space separated):2 4\n",
      "The distance between them is: 2.0\n"
     ]
    }
   ],
   "source": [
    "#Q2\n",
    "def f(x,y):\n",
    "    print ('The distance between them is:',  ((float(x[1])-float(y[1]))**2 + (float(x[0])-float(y[0]))**2)**0.5)\n",
    "f(x=input('Enter point 1 coordinates (space separated):').split(' '),y=input('Enter point 2 coordinates (space separated):').split(' '))"
   ]
  },
  {
   "cell_type": "code",
   "execution_count": 12,
   "id": "a7fc89b5",
   "metadata": {},
   "outputs": [
    {
     "name": "stdout",
     "output_type": "stream",
     "text": [
      "Enter the number of Wins, Losses, Draws (Space Separated):5 3 2\n",
      "Team point(s) = 12\n"
     ]
    }
   ],
   "source": [
    "#Q3\n",
    "n=input('Enter the number of Wins, Losses, Draws (Space Separated):').split(' ')\n",
    "print('Team point(s) =',int(n[0])*2+int(n[2]))"
   ]
  },
  {
   "cell_type": "code",
   "execution_count": 13,
   "id": "5ab83dbc",
   "metadata": {},
   "outputs": [
    {
     "name": "stdout",
     "output_type": "stream",
     "text": [
      "Enter DNA Sequence:ATCGCATGAC\n",
      "The corresponding RNA Sequence is AUCGCAUGAC\n"
     ]
    }
   ],
   "source": [
    "#Q4\n",
    "D=input('Enter DNA Sequence:')\n",
    "R=str()\n",
    "for i in D:\n",
    "    if i=='T': R+='U'\n",
    "    else: R+=i\n",
    "print('The corresponding RNA Sequence is',R)"
   ]
  },
  {
   "cell_type": "code",
   "execution_count": 14,
   "id": "e1de6f48",
   "metadata": {},
   "outputs": [
    {
     "name": "stdout",
     "output_type": "stream",
     "text": [
      "Enter DNA sequence:ATCGCGTAATCGCTA\n",
      "A:4,T:4,G:3,C:4\n"
     ]
    }
   ],
   "source": [
    "#Q5\n",
    "d=input('Enter DNA sequence:')\n",
    "A=0\n",
    "T=0\n",
    "G=0\n",
    "C=0\n",
    "for i in d:\n",
    "    if i=='A': A+=1\n",
    "    if i=='T': T+=1\n",
    "    if i=='G': G+=1\n",
    "    if i=='C': C+=1\n",
    "print(f'A:{A},T:{T},G:{G},C:{C}')"
   ]
  },
  {
   "cell_type": "code",
   "execution_count": 15,
   "id": "070094ec",
   "metadata": {},
   "outputs": [
    {
     "name": "stdout",
     "output_type": "stream",
     "text": [
      "Enter words separated by spaces:My Name is Priyanshu Mahato\n",
      "Mahato My Name Priyanshu is\n"
     ]
    }
   ],
   "source": [
    "#Q6\n",
    "wd=(' ').join(sorted(list(set(input('Enter words separated by spaces:').split()))))\n",
    "print(wd)"
   ]
  },
  {
   "cell_type": "code",
   "execution_count": 17,
   "id": "d001c693",
   "metadata": {},
   "outputs": [
    {
     "name": "stdout",
     "output_type": "stream",
     "text": [
      "Enter key K:Rene\n",
      "Value of Rene in dictionary is 0\n"
     ]
    }
   ],
   "source": [
    "#Q7\n",
    "lst = ['I','think','therefore','I', 'am','said','Rene','Descartes']\n",
    "dct = {'Rene' : 0, 'Descartes' : 1, 'I' : 2, 'think': 3}\n",
    "K=input('Enter key K:')\n",
    "if K in set(lst)&set(dct):\n",
    "    print(f'Value of {K} in dictionary is', dct[K])\n",
    "else: print(f'{K} not found in either list or dictionary')"
   ]
  },
  {
   "cell_type": "code",
   "execution_count": null,
   "id": "f5adaa8c",
   "metadata": {},
   "outputs": [],
   "source": []
  }
 ],
 "metadata": {
  "kernelspec": {
   "display_name": "Python 3 (ipykernel)",
   "language": "python",
   "name": "python3"
  },
  "language_info": {
   "codemirror_mode": {
    "name": "ipython",
    "version": 3
   },
   "file_extension": ".py",
   "mimetype": "text/x-python",
   "name": "python",
   "nbconvert_exporter": "python",
   "pygments_lexer": "ipython3",
   "version": "3.10.2"
  }
 },
 "nbformat": 4,
 "nbformat_minor": 5
}
